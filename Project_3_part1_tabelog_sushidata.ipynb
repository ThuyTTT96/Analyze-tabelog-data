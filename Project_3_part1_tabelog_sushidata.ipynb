{
 "cells": [
  {
   "cell_type": "markdown",
   "source": [
    "### Imports"
   ],
   "metadata": {}
  },
  {
   "cell_type": "code",
   "execution_count": 1,
   "source": [
    "from bs4 import BeautifulSoup\n",
    "import requests\n",
    "import pandas as pd\n",
    "import urllib.parse\n",
    "import re"
   ],
   "outputs": [],
   "metadata": {}
  },
  {
   "cell_type": "markdown",
   "source": [
    "### HTTP Request"
   ],
   "metadata": {}
  },
  {
   "cell_type": "markdown",
   "source": [
    "#### store website in variable"
   ],
   "metadata": {}
  },
  {
   "cell_type": "code",
   "execution_count": 2,
   "source": [
    "website = requests.get(\"https://tabelog.com/en/tokyo/rstLst/1/?LstCatD=RC0102&LstCat=RC01&Cat=RC\")"
   ],
   "outputs": [],
   "metadata": {}
  },
  {
   "cell_type": "markdown",
   "source": [
    "#### Status Code"
   ],
   "metadata": {}
  },
  {
   "cell_type": "code",
   "execution_count": 3,
   "source": [
    "website.status_code"
   ],
   "outputs": [
    {
     "output_type": "execute_result",
     "data": {
      "text/plain": [
       "200"
      ]
     },
     "metadata": {},
     "execution_count": 3
    }
   ],
   "metadata": {}
  },
  {
   "cell_type": "markdown",
   "source": [
    "### Soup Object "
   ],
   "metadata": {}
  },
  {
   "cell_type": "code",
   "execution_count": 4,
   "source": [
    "soup = BeautifulSoup(website.content, 'html.parser')"
   ],
   "outputs": [],
   "metadata": {}
  },
  {
   "cell_type": "markdown",
   "source": [
    "### Results"
   ],
   "metadata": {}
  },
  {
   "cell_type": "code",
   "execution_count": 5,
   "source": [
    "result_container = soup.find_all('li',{'class':'list-rst js-list-item'})  "
   ],
   "outputs": [],
   "metadata": {}
  },
  {
   "cell_type": "code",
   "execution_count": 6,
   "source": [
    "restaurant_link = []\n",
    "for result in result_container:\n",
    "    restaurant_link.append(result.find('a').get('href'))\n",
    "restaurant_link"
   ],
   "outputs": [
    {
     "output_type": "execute_result",
     "data": {
      "text/plain": [
       "['https://tabelog.com/en/tokyo/A1314/A131402/13027687/',\n",
       " 'https://tabelog.com/en/tokyo/A1308/A130801/13021509/',\n",
       " 'https://tabelog.com/en/tokyo/A1302/A130202/13257433/',\n",
       " 'https://tabelog.com/en/tokyo/A1317/A131710/13233609/',\n",
       " 'https://tabelog.com/en/tokyo/A1314/A131403/13055197/',\n",
       " 'https://tabelog.com/en/tokyo/A1307/A130703/13076593/',\n",
       " 'https://tabelog.com/en/tokyo/A1305/A130501/13225374/',\n",
       " 'https://tabelog.com/en/tokyo/A1329/A132901/13250241/',\n",
       " 'https://tabelog.com/en/tokyo/A1301/A130102/13030520/',\n",
       " 'https://tabelog.com/en/tokyo/A1311/A131102/13130042/',\n",
       " 'https://tabelog.com/en/tokyo/A1313/A131303/13015418/',\n",
       " 'https://tabelog.com/en/tokyo/A1301/A130101/13228726/',\n",
       " 'https://tabelog.com/en/tokyo/A1323/A132305/13057800/',\n",
       " 'https://tabelog.com/en/tokyo/A1313/A131301/13055316/',\n",
       " 'https://tabelog.com/en/tokyo/A1307/A130701/13098338/',\n",
       " 'https://tabelog.com/en/tokyo/A1306/A130602/13237445/',\n",
       " 'https://tabelog.com/en/tokyo/A1327/A132702/13031861/',\n",
       " 'https://tabelog.com/en/tokyo/A1301/A130103/13242663/',\n",
       " 'https://tabelog.com/en/tokyo/A1308/A130801/13207593/',\n",
       " 'https://tabelog.com/en/tokyo/A1304/A130401/13026191/']"
      ]
     },
     "metadata": {},
     "execution_count": 6
    }
   ],
   "metadata": {}
  },
  {
   "cell_type": "markdown",
   "source": [
    "### Concatenate 2 URL Parts"
   ],
   "metadata": {}
  },
  {
   "cell_type": "markdown",
   "source": [
    "### Get Data from First Link "
   ],
   "metadata": {}
  },
  {
   "cell_type": "code",
   "execution_count": 76,
   "source": [
    "#name\n",
    "#address\n",
    "#phone\n",
    "#email\n",
    "#website\n",
    "#generalinfo"
   ],
   "outputs": [],
   "metadata": {}
  },
  {
   "cell_type": "markdown",
   "source": [
    "#### Store first link in variable\n"
   ],
   "metadata": {}
  },
  {
   "cell_type": "code",
   "execution_count": 7,
   "source": [
    "first_link = restaurant_link[0]"
   ],
   "outputs": [],
   "metadata": {}
  },
  {
   "cell_type": "markdown",
   "source": [
    "#### Get Request & Soup Object"
   ],
   "metadata": {}
  },
  {
   "cell_type": "code",
   "execution_count": 8,
   "source": [
    "response = requests.get(first_link)"
   ],
   "outputs": [],
   "metadata": {}
  },
  {
   "cell_type": "code",
   "execution_count": 10,
   "source": [
    "soup = BeautifulSoup(response.content, 'html.parser')"
   ],
   "outputs": [],
   "metadata": {}
  },
  {
   "cell_type": "markdown",
   "source": [
    "#### Name"
   ],
   "metadata": {}
  },
  {
   "cell_type": "code",
   "execution_count": 11,
   "source": [
    "Name = soup.find('a',{'class':'rd-header__rst-name-main'}).get_text()\n",
    "Name"
   ],
   "outputs": [
    {
     "output_type": "execute_result",
     "data": {
      "text/plain": [
       "'sushiuogashinihonichi'"
      ]
     },
     "metadata": {},
     "execution_count": 11
    }
   ],
   "metadata": {}
  },
  {
   "cell_type": "markdown",
   "source": [
    "#### Address"
   ],
   "metadata": {}
  },
  {
   "cell_type": "code",
   "execution_count": 12,
   "source": [
    "Address = soup.find('div',{'class':'rd-header__info-table'}).find('span',text  = 'Nearest station').findNext('dd').get_text().strip().split('\\n')\n",
    "Address[0]"
   ],
   "outputs": [
    {
     "output_type": "execute_result",
     "data": {
      "text/plain": [
       "'Mita'"
      ]
     },
     "metadata": {},
     "execution_count": 12
    }
   ],
   "metadata": {}
  },
  {
   "cell_type": "code",
   "execution_count": 13,
   "source": [
    "Full_add = soup.find('p',{'class':'rd-detail-info__rst-address'}).get_text().strip()\n",
    "Full_add"
   ],
   "outputs": [
    {
     "output_type": "execute_result",
     "data": {
      "text/plain": [
       "'5-chome-29-3 Shiba Minato City Tokyo-to'"
      ]
     },
     "metadata": {},
     "execution_count": 13
    }
   ],
   "metadata": {}
  },
  {
   "cell_type": "markdown",
   "source": [
    "### Operating Hours"
   ],
   "metadata": {}
  },
  {
   "cell_type": "code",
   "execution_count": 14,
   "source": [
    "Operating_Hours = soup.find('th',text = \"Operating Hours\").findNext('p',{'class':'translate'}).get_text().strip()\n",
    "Operating_Hours"
   ],
   "outputs": [
    {
     "output_type": "execute_result",
     "data": {
      "text/plain": [
       "'【月～金】11:00～22:00【土日祝】11:30～22:00※当面の間、営業時間を変更しております。'"
      ]
     },
     "metadata": {},
     "execution_count": 14
    }
   ],
   "metadata": {}
  },
  {
   "cell_type": "markdown",
   "source": [
    "### Buget"
   ],
   "metadata": {}
  },
  {
   "cell_type": "code",
   "execution_count": 33,
   "source": [
    "Dinner_cost = soup.find('span', {'class':'c-rating__time c-rating__time--dinner'}).findNext('b').get_text()\n",
    "Dinner_cost"
   ],
   "outputs": [
    {
     "output_type": "execute_result",
     "data": {
      "text/plain": [
       "'￥4,000～￥4,999'"
      ]
     },
     "metadata": {},
     "execution_count": 33
    }
   ],
   "metadata": {}
  },
  {
   "cell_type": "code",
   "execution_count": 31,
   "source": [
    "Lunch_cost = soup.find('span', {'class':'c-rating__time c-rating__time--lunch'}).findNext('b').get_text()\n",
    "Lunch_cost"
   ],
   "outputs": [
    {
     "output_type": "execute_result",
     "data": {
      "text/plain": [
       "'～￥999'"
      ]
     },
     "metadata": {},
     "execution_count": 31
    }
   ],
   "metadata": {}
  },
  {
   "cell_type": "markdown",
   "source": [
    "### Rating\n"
   ],
   "metadata": {}
  },
  {
   "cell_type": "code",
   "execution_count": 168,
   "source": [
    "Rating = soup.find('b', {'class':'c-rating__val c-rating__val--strong'}).get_text()\n",
    "Rating"
   ],
   "outputs": [
    {
     "output_type": "execute_result",
     "data": {
      "text/plain": [
       "'3.18'"
      ]
     },
     "metadata": {},
     "execution_count": 168
    }
   ],
   "metadata": {}
  },
  {
   "cell_type": "code",
   "execution_count": 176,
   "source": [
    "Reviews = soup.find('a', {'class': 'rd-header__rst-reviews-target gly-b-review'}).get_text().strip().split('\\n')[0]\n",
    "Reviews\n"
   ],
   "outputs": [
    {
     "output_type": "execute_result",
     "data": {
      "text/plain": [
       "'21'"
      ]
     },
     "metadata": {},
     "execution_count": 176
    }
   ],
   "metadata": {}
  },
  {
   "cell_type": "markdown",
   "source": [
    "#### Phone"
   ],
   "metadata": {}
  },
  {
   "cell_type": "code",
   "execution_count": 181,
   "source": [
    "Phone = soup.find('p',{'class':'rd-detail-info__rst-tel rd-detail-info__rst-tel--ppc'}).get_text().strip().split('\\n')[0]\n",
    "Phone"
   ],
   "outputs": [
    {
     "output_type": "execute_result",
     "data": {
      "text/plain": [
       "'050-5597-7830'"
      ]
     },
     "metadata": {},
     "execution_count": 181
    }
   ],
   "metadata": {}
  },
  {
   "cell_type": "markdown",
   "source": [
    "#### Website"
   ],
   "metadata": {}
  },
  {
   "cell_type": "code",
   "execution_count": 183,
   "source": [
    "Website = soup.find('a',{'class':'rd-header__rst-name-main'}).get('href')\n",
    "Website"
   ],
   "outputs": [
    {
     "output_type": "execute_result",
     "data": {
      "text/plain": [
       "'https://tabelog.com/en/tokyo/A1303/A130302/13238158/'"
      ]
     },
     "metadata": {},
     "execution_count": 183
    }
   ],
   "metadata": {}
  },
  {
   "cell_type": "markdown",
   "source": [
    "### Put all togehter and loop through all pages"
   ],
   "metadata": {}
  },
  {
   "cell_type": "code",
   "execution_count": 185,
   "source": [
    "#restaurant_df = pd.DataFrame(columns=['Name', 'Address', 'Phone', 'Email', 'Website', 'General_Info'])\n",
    "results = []\n",
    "for link in restaurant_link:\n",
    "    response = requests.get(link)\n",
    "    soup = BeautifulSoup(response.content, 'html.parser')\n",
    "    try:\n",
    "        Name = soup.find('a',{'class':'rd-header__rst-name-main'}).get_text()\n",
    "    except:\n",
    "        Name = 'n/a'\n",
    "    try:\n",
    "        Address = soup.find('p',{'class':'rd-detail-info__rst-address'}).get_text().strip()\n",
    "    except:\n",
    "        Address = 'n/a'\n",
    "    try:\n",
    "        Phone = soup.find('p',{'class':'rd-detail-info__rst-tel rd-detail-info__rst-tel--ppc'}).get_text().strip().split('\\n')[0]\n",
    "    except:\n",
    "        Phone = 'n/a'\n",
    "    try:\n",
    "        Website = soup.find('a',{'class':'rd-header__rst-name-main'}).get('href')\n",
    "    except:\n",
    "        Website = 'n/a'\n",
    "    try:\n",
    "        Operating_Hours = soup.find('th',text = \"Operating Hours\").findNext('p',{'class':'translate'}).get_text().strip()\n",
    "    except:\n",
    "        Operating_Hours = 'n/a'\n",
    "    try:\n",
    "        Dinner_cost = soup.find('span', {'class':'c-rating__time c-rating__time--dinner'}).findNext('b').get_text()\n",
    "    except:\n",
    "        Dinner_cost = 'n/a'\n",
    "    try:\n",
    "        Lunch_cost = soup.find('span', {'class':'c-rating__time c-rating__time--lunch'}).findNext('b').get_text()\n",
    "    except:\n",
    "        Lunch_cost = 'n/a'\n",
    "    try:\n",
    "        Rating = soup.find('b', {'class':'c-rating__val c-rating__val--strong'}).get_text()\n",
    "    except:\n",
    "        Rating = 'n/a'\n",
    "    try:\n",
    "        Reviews = soup.find('a', {'class': 'rd-header__rst-reviews-target gly-b-review'}).get_text().strip().split('\\n')[0]\n",
    "    except:\n",
    "        Reviews = 'n/a'\n",
    "    # for i in range(len(Name)):\n",
    "    #     restaurant_df = restaurant_df.append({'Name':Name[i],'Address':Address[i], 'Phone':Phone[i], 'Email':Email[i], 'Website':Website[i], 'General_Info':General_Info[i]}, ignore_index=True)\n",
    "    results.append({'Name':Name,'Address':Address, 'Phone':Phone, 'Website':Website, 'Website':Website, 'Operating_Hours':Operating_Hours,'Dinner_cost':Dinner_cost, 'Lunch_cost':Lunch_cost, 'Rating':Rating, 'Reviews':Reviews })"
   ],
   "outputs": [],
   "metadata": {}
  },
  {
   "cell_type": "markdown",
   "source": [
    "### Create Pandas Dataframe"
   ],
   "metadata": {}
  },
  {
   "cell_type": "code",
   "execution_count": 186,
   "source": [
    "restaurant_df = pd.DataFrame(results)\n"
   ],
   "outputs": [],
   "metadata": {}
  },
  {
   "cell_type": "code",
   "execution_count": 187,
   "source": [
    "restaurant_df.head()"
   ],
   "outputs": [
    {
     "output_type": "execute_result",
     "data": {
      "text/plain": [
       "                      Name                                       Address  \\\n",
       "0                   Yasaka      2-chome-8-13 Ebisu Shibuya City Tokyo-to   \n",
       "1              sushijinsei         6-chome-14-7 Ueno Taito City Tokyo-to   \n",
       "2    Sushidokorokinnodashi                  Sotokanda Chiyoda City Tokyo   \n",
       "3  Daikanyamasushitakeuchi         5-8 Sarugakucho Shibuya City Tokyo-to   \n",
       "4          ebisusushiogino  1-chome-9-7 Ebisunishi Shibuya City Tokyo-to   \n",
       "\n",
       "           Phone                                            Website  \\\n",
       "0  050-5597-7830  https://tabelog.com/en/tokyo/A1303/A130302/132...   \n",
       "1  050-5597-2671  https://tabelog.com/en/tokyo/A1311/A131101/132...   \n",
       "2  050-5595-2341  https://tabelog.com/en/tokyo/A1310/A131001/132...   \n",
       "3  050-5594-1561  https://tabelog.com/en/tokyo/A1303/A130303/132...   \n",
       "4  050-5595-8448  https://tabelog.com/en/tokyo/A1303/A130302/132...   \n",
       "\n",
       "                                     Operating_Hours      Dinner_cost  \\\n",
       "0                            11:30〜14:00 17:00〜22:00  ￥10,000～￥14,999   \n",
       "1  ランチ　　12：00～14：00(LO13：30)ディナー　月～金 16：00～23：00(...    ￥8,000～￥9,999   \n",
       "2  [月～金]11:30～23:00[土日祝]12:00～23:00お電話は13:00～17:0...    ￥4,000～￥4,999   \n",
       "3  昼 12:00〜14:00夜 18:00〜23:00※緊急事態宣言により営業時間の変更がござ...  ￥15,000～￥19,999   \n",
       "4  通常営業時間土.日．祝日ランチ　　12：00～14：00（L.O13：00）平日ランチ営業は...  ￥10,000～￥14,999   \n",
       "\n",
       "      Lunch_cost Rating Reviews  \n",
       "0  ￥2,000～￥2,999   3.18      21  \n",
       "1  ￥3,000～￥3,999   3.40      76  \n",
       "2  ￥2,000～￥2,999   3.25      28  \n",
       "3  ￥6,000～￥7,999   3.69      72  \n",
       "4  ￥6,000～￥7,999   3.38      71  "
      ],
      "text/html": [
       "<div>\n",
       "<style scoped>\n",
       "    .dataframe tbody tr th:only-of-type {\n",
       "        vertical-align: middle;\n",
       "    }\n",
       "\n",
       "    .dataframe tbody tr th {\n",
       "        vertical-align: top;\n",
       "    }\n",
       "\n",
       "    .dataframe thead th {\n",
       "        text-align: right;\n",
       "    }\n",
       "</style>\n",
       "<table border=\"1\" class=\"dataframe\">\n",
       "  <thead>\n",
       "    <tr style=\"text-align: right;\">\n",
       "      <th></th>\n",
       "      <th>Name</th>\n",
       "      <th>Address</th>\n",
       "      <th>Phone</th>\n",
       "      <th>Website</th>\n",
       "      <th>Operating_Hours</th>\n",
       "      <th>Dinner_cost</th>\n",
       "      <th>Lunch_cost</th>\n",
       "      <th>Rating</th>\n",
       "      <th>Reviews</th>\n",
       "    </tr>\n",
       "  </thead>\n",
       "  <tbody>\n",
       "    <tr>\n",
       "      <th>0</th>\n",
       "      <td>Yasaka</td>\n",
       "      <td>2-chome-8-13 Ebisu Shibuya City Tokyo-to</td>\n",
       "      <td>050-5597-7830</td>\n",
       "      <td>https://tabelog.com/en/tokyo/A1303/A130302/132...</td>\n",
       "      <td>11:30〜14:00 17:00〜22:00</td>\n",
       "      <td>￥10,000～￥14,999</td>\n",
       "      <td>￥2,000～￥2,999</td>\n",
       "      <td>3.18</td>\n",
       "      <td>21</td>\n",
       "    </tr>\n",
       "    <tr>\n",
       "      <th>1</th>\n",
       "      <td>sushijinsei</td>\n",
       "      <td>6-chome-14-7 Ueno Taito City Tokyo-to</td>\n",
       "      <td>050-5597-2671</td>\n",
       "      <td>https://tabelog.com/en/tokyo/A1311/A131101/132...</td>\n",
       "      <td>ランチ　　12：00～14：00(LO13：30)ディナー　月～金 16：00～23：00(...</td>\n",
       "      <td>￥8,000～￥9,999</td>\n",
       "      <td>￥3,000～￥3,999</td>\n",
       "      <td>3.40</td>\n",
       "      <td>76</td>\n",
       "    </tr>\n",
       "    <tr>\n",
       "      <th>2</th>\n",
       "      <td>Sushidokorokinnodashi</td>\n",
       "      <td>Sotokanda Chiyoda City Tokyo</td>\n",
       "      <td>050-5595-2341</td>\n",
       "      <td>https://tabelog.com/en/tokyo/A1310/A131001/132...</td>\n",
       "      <td>[月～金]11:30～23:00[土日祝]12:00～23:00お電話は13:00～17:0...</td>\n",
       "      <td>￥4,000～￥4,999</td>\n",
       "      <td>￥2,000～￥2,999</td>\n",
       "      <td>3.25</td>\n",
       "      <td>28</td>\n",
       "    </tr>\n",
       "    <tr>\n",
       "      <th>3</th>\n",
       "      <td>Daikanyamasushitakeuchi</td>\n",
       "      <td>5-8 Sarugakucho Shibuya City Tokyo-to</td>\n",
       "      <td>050-5594-1561</td>\n",
       "      <td>https://tabelog.com/en/tokyo/A1303/A130303/132...</td>\n",
       "      <td>昼 12:00〜14:00夜 18:00〜23:00※緊急事態宣言により営業時間の変更がござ...</td>\n",
       "      <td>￥15,000～￥19,999</td>\n",
       "      <td>￥6,000～￥7,999</td>\n",
       "      <td>3.69</td>\n",
       "      <td>72</td>\n",
       "    </tr>\n",
       "    <tr>\n",
       "      <th>4</th>\n",
       "      <td>ebisusushiogino</td>\n",
       "      <td>1-chome-9-7 Ebisunishi Shibuya City Tokyo-to</td>\n",
       "      <td>050-5595-8448</td>\n",
       "      <td>https://tabelog.com/en/tokyo/A1303/A130302/132...</td>\n",
       "      <td>通常営業時間土.日．祝日ランチ　　12：00～14：00（L.O13：00）平日ランチ営業は...</td>\n",
       "      <td>￥10,000～￥14,999</td>\n",
       "      <td>￥6,000～￥7,999</td>\n",
       "      <td>3.38</td>\n",
       "      <td>71</td>\n",
       "    </tr>\n",
       "  </tbody>\n",
       "</table>\n",
       "</div>"
      ]
     },
     "metadata": {},
     "execution_count": 187
    }
   ],
   "metadata": {}
  },
  {
   "cell_type": "markdown",
   "source": [
    "### Store in Excel"
   ],
   "metadata": {}
  },
  {
   "cell_type": "code",
   "execution_count": null,
   "source": [],
   "outputs": [],
   "metadata": {}
  }
 ],
 "metadata": {
  "kernelspec": {
   "name": "python3",
   "display_name": "Python 3.8.5 64-bit ('LAProj': conda)"
  },
  "language_info": {
   "codemirror_mode": {
    "name": "ipython",
    "version": 3
   },
   "file_extension": ".py",
   "mimetype": "text/x-python",
   "name": "python",
   "nbconvert_exporter": "python",
   "pygments_lexer": "ipython3",
   "version": "3.8.5"
  },
  "interpreter": {
   "hash": "25d87f43abb312f8413e64473f3905a4e4e2dab0a7237b636763f789b0642cfe"
  }
 },
 "nbformat": 4,
 "nbformat_minor": 4
}