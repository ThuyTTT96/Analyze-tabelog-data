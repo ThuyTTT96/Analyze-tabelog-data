{
 "cells": [
  {
   "cell_type": "code",
   "execution_count": null,
   "source": [],
   "outputs": [],
   "metadata": {}
  },
  {
   "cell_type": "code",
   "execution_count": 4,
   "source": [
    "from bs4 import BeautifulSoup\n",
    "import requests\n",
    "import pandas as pd \n",
    "import urllib.parse \n",
    "import numpy as np\n",
    "import plotly.express as px\n",
    "import plotly.graph_objects as go\n",
    "from plotly.subplots import make_subplots\n",
    "import geopandas as gpd\n",
    "from geopandas.tools import geocode\n",
    "from shapely.geometry import Point"
   ],
   "outputs": [],
   "metadata": {}
  },
  {
   "cell_type": "markdown",
   "source": [
    "### Put all together"
   ],
   "metadata": {}
  },
  {
   "cell_type": "code",
   "execution_count": 63,
   "source": [
    "# create dataframe (in the beginning it is empty)\n",
    "df_restaurant = pd.DataFrame(columns=['Name','Address', 'Phone', 'Website', 'Operating_Hours','Dinner_cost', 'Lunch_cost', 'Rating', 'Reviews'])\n",
    "\n",
    "# sequence of numbers - 1 to 59 \n",
    "for page in range(1,60):\n",
    "\n",
    "    # varibale for pages withing website\n",
    "    website = \"https://tabelog.com/en/tokyo/rstLst/\" + str(page) + \"/?LstCatD=RC0102&LstCat=RC01&Cat=RC \"\n",
    "\n",
    "    # request\n",
    "    response = requests.get(website)\n",
    "    \n",
    "    # create soup object\n",
    "    soup = BeautifulSoup(response.content, 'html.parser')\n",
    "    \n",
    "    # result container\n",
    "    result_container = soup.find_all('li',{'class':'list-rst js-list-item'})  \n",
    "    \n",
    "    # loop through results\n",
    "    restaurant_link = []\n",
    "    for result in result_container:\n",
    "        restaurant_link.append(result.find('a').get('href'))\n",
    "    restaurant_link\n",
    "    \n",
    "    # loop through all joined links\n",
    "    for link in restaurant_link:\n",
    "        response = requests.get(link)\n",
    "        soup = BeautifulSoup(response.content, 'html.parser')\n",
    "        try:\n",
    "            Name = soup.find('a',{'class':'rd-header__rst-name-main'}).get_text()\n",
    "        except:\n",
    "            Name = 'n/a'\n",
    "        try:\n",
    "            Address = soup.find('p',{'class':'rd-detail-info__rst-address'}).get_text().strip()\n",
    "        except:\n",
    "            Address = 'n/a'\n",
    "        try:\n",
    "            Phone = soup.find('p',{'class':'rd-detail-info__rst-tel rd-detail-info__rst-tel--ppc'}).get_text().strip().split('\\n')[0]\n",
    "        except:\n",
    "            Phone = 'n/a'\n",
    "        try:\n",
    "            Website = soup.find('a',{'class':'rd-header__rst-name-main'}).get('href')\n",
    "        except:\n",
    "            Website = 'n/a'\n",
    "        try:\n",
    "            Operating_Hours = soup.find('th',text = \"Operating Hours\").findNext('p',{'class':'translate'}).get_text().strip()\n",
    "        except:\n",
    "            Operating_Hours = 'n/a'\n",
    "        try:\n",
    "            Dinner_cost = soup.find('span', {'class':'c-rating__time c-rating__time--dinner'}).findNext('b').get_text()\n",
    "        except:\n",
    "            Dinner_cost = 'n/a'\n",
    "        try:\n",
    "            Lunch_cost = soup.find('span', {'class':'c-rating__time c-rating__time--lunch'}).findNext('b').get_text()\n",
    "        except:\n",
    "            Lunch_cost = 'n/a'\n",
    "        try:\n",
    "            Rating = soup.find('b', {'class':'c-rating__val c-rating__val--strong'}).get_text()\n",
    "        except:\n",
    "            Rating = 'n/a'\n",
    "        try:\n",
    "            Reviews = soup.find('a', {'class': 'rd-header__rst-reviews-target gly-b-review'}).get_text().strip().split('\\n')[0]\n",
    "        except:\n",
    "            Reviews = 'n/a'\n",
    "            \n",
    "        # Pandas Dataframe\n",
    "        df_restaurant = df_restaurant.append({'Name':Name,'Address':Address, 'Phone':Phone, 'Website':Website, 'Operating_Hours':Operating_Hours,'Dinner_cost':Dinner_cost, 'Lunch_cost':Lunch_cost, 'Rating':Rating, 'Reviews':Reviews}, ignore_index=True)\n",
    "    \n"
   ],
   "outputs": [],
   "metadata": {}
  },
  {
   "cell_type": "code",
   "execution_count": 78,
   "source": [
    "df = pd.read_csv('sushidata.csv')"
   ],
   "outputs": [],
   "metadata": {}
  },
  {
   "cell_type": "markdown",
   "source": [
    "### Output Pandas Dataframe"
   ],
   "metadata": {}
  },
  {
   "cell_type": "code",
   "execution_count": 79,
   "source": [
    "df \n"
   ],
   "outputs": [
    {
     "output_type": "execute_result",
     "data": {
      "text/plain": [
       "                               Name  \\\n",
       "0                       Sushizammai   \n",
       "1                      Sushiichikan   \n",
       "2                      ITAMAE SUSHI   \n",
       "3            sushishiorianyamashiro   \n",
       "4               Ginzasushikouhonten   \n",
       "...                             ...   \n",
       "1175              Kaitenzushitaisei   \n",
       "1176                   Nigirinoippo   \n",
       "1177  Akasakasushishiorianyamashiro   \n",
       "1178         sushinomidorisouhonten   \n",
       "1179                     Koukizushi   \n",
       "\n",
       "                                            Address          Phone  \\\n",
       "0            1-chome-1-15 Ōkubo Shinjuku City Tokyo  050-5593-9051   \n",
       "1         22-8 Sakuragaokacho Shibuya City Tokyo-to  050-5595-2988   \n",
       "2     1-chome-19-1 Kabukicho Shinjuku City Tokyo-to  050-5589-2295   \n",
       "3          5-chome-12-10 Shiba Minato City Tokyo-to  050-5456-8458   \n",
       "4      2-chome-4-1 Marunouchi Chiyoda City Tokyo-to  050-5596-3820   \n",
       "...                                             ...            ...   \n",
       "1175                6-12 Asahicho Hachioji Tokyo-to            NaN   \n",
       "1176                        Senju Adachi City Tokyo  050-5868-5967   \n",
       "1177        3-chome-15-13 Akasaka Minato City Tokyo            NaN   \n",
       "1178     1 Chome-20-7 Umegaoka Setagaya-ku Tokyo-to            NaN   \n",
       "1179     2-chome-30-1 Akebonocho Tachikawa Tokyo-to            NaN   \n",
       "\n",
       "                                                Website  \\\n",
       "0     https://tabelog.com/en/tokyo/A1304/A130401/130...   \n",
       "1     https://tabelog.com/en/tokyo/A1303/A130301/132...   \n",
       "2     https://tabelog.com/en/tokyo/A1304/A130401/131...   \n",
       "3     https://tabelog.com/en/tokyo/A1314/A131402/132...   \n",
       "4     https://tabelog.com/en/tokyo/A1302/A130201/130...   \n",
       "...                                                 ...   \n",
       "1175  https://tabelog.com/en/tokyo/A1329/A132904/131...   \n",
       "1176  https://tabelog.com/en/tokyo/A1324/A132402/131...   \n",
       "1177  https://tabelog.com/en/tokyo/A1308/A130801/132...   \n",
       "1178  https://tabelog.com/en/tokyo/A1318/A131812/130...   \n",
       "1179  https://tabelog.com/en/tokyo/A1329/A132901/130...   \n",
       "\n",
       "                                        Operating_Hours      Dinner_cost  \\\n",
       "0                                           11：00～翌7：00    ￥3,000～￥3,999   \n",
       "1     ランチタイム(月曜、火曜、木曜、金曜のみ)11:30~14:00ディナータイム17:30~2...  ￥10,000～￥14,999   \n",
       "2       【店内営業/テイクアウト】 全日08:00～翌05:00［ランチタイム］11:30～15:00    ￥3,000～￥3,999   \n",
       "3                      ランチ　　12:00~14:00ディナー　17:00~23:00  ￥10,000～￥14,999   \n",
       "4     月～土 ランチ11:00～14:30（L.O.14:00）ディナー17:30～23:00（L...  ￥10,000～￥14,999   \n",
       "...                                                 ...              ...   \n",
       "1175                                        11:00～20:45    ￥1,000～￥1,999   \n",
       "1176            17:00～23:00(フードL.O.22:00 ドリンクL.O.22:30)    ￥6,000～￥7,999   \n",
       "1177                         通常営業時間16:00 ～ 24:00（23:00）    ￥8,000～￥9,999   \n",
       "1178  [月]11:00～21:00（L.O.20:45）[火～金]11:00～14:00 16:3...    ￥3,000～￥3,999   \n",
       "1179      [月～金]11:30～14:0017:00～22:00[土・日・祝]17:00～22:00    ￥3,000～￥3,999   \n",
       "\n",
       "         Lunch_cost  Rating  Reviews  \n",
       "0     ￥1,000～￥1,999    3.18       97  \n",
       "1     ￥2,000～￥2,999    3.09       14  \n",
       "2             ～￥999    3.25      111  \n",
       "3     ￥1,000～￥1,999    3.41       48  \n",
       "4     ￥5,000～￥5,999    3.53       48  \n",
       "...             ...     ...      ...  \n",
       "1175          ～￥999    3.28       20  \n",
       "1176              -    3.53       60  \n",
       "1177  ￥6,000～￥7,999    3.09       15  \n",
       "1178  ￥2,000～￥2,999    3.53      345  \n",
       "1179          ～￥999    3.46       38  \n",
       "\n",
       "[1180 rows x 9 columns]"
      ],
      "text/html": [
       "<div>\n",
       "<style scoped>\n",
       "    .dataframe tbody tr th:only-of-type {\n",
       "        vertical-align: middle;\n",
       "    }\n",
       "\n",
       "    .dataframe tbody tr th {\n",
       "        vertical-align: top;\n",
       "    }\n",
       "\n",
       "    .dataframe thead th {\n",
       "        text-align: right;\n",
       "    }\n",
       "</style>\n",
       "<table border=\"1\" class=\"dataframe\">\n",
       "  <thead>\n",
       "    <tr style=\"text-align: right;\">\n",
       "      <th></th>\n",
       "      <th>Name</th>\n",
       "      <th>Address</th>\n",
       "      <th>Phone</th>\n",
       "      <th>Website</th>\n",
       "      <th>Operating_Hours</th>\n",
       "      <th>Dinner_cost</th>\n",
       "      <th>Lunch_cost</th>\n",
       "      <th>Rating</th>\n",
       "      <th>Reviews</th>\n",
       "    </tr>\n",
       "  </thead>\n",
       "  <tbody>\n",
       "    <tr>\n",
       "      <th>0</th>\n",
       "      <td>Sushizammai</td>\n",
       "      <td>1-chome-1-15 Ōkubo Shinjuku City Tokyo</td>\n",
       "      <td>050-5593-9051</td>\n",
       "      <td>https://tabelog.com/en/tokyo/A1304/A130401/130...</td>\n",
       "      <td>11：00～翌7：00</td>\n",
       "      <td>￥3,000～￥3,999</td>\n",
       "      <td>￥1,000～￥1,999</td>\n",
       "      <td>3.18</td>\n",
       "      <td>97</td>\n",
       "    </tr>\n",
       "    <tr>\n",
       "      <th>1</th>\n",
       "      <td>Sushiichikan</td>\n",
       "      <td>22-8 Sakuragaokacho Shibuya City Tokyo-to</td>\n",
       "      <td>050-5595-2988</td>\n",
       "      <td>https://tabelog.com/en/tokyo/A1303/A130301/132...</td>\n",
       "      <td>ランチタイム(月曜、火曜、木曜、金曜のみ)11:30~14:00ディナータイム17:30~2...</td>\n",
       "      <td>￥10,000～￥14,999</td>\n",
       "      <td>￥2,000～￥2,999</td>\n",
       "      <td>3.09</td>\n",
       "      <td>14</td>\n",
       "    </tr>\n",
       "    <tr>\n",
       "      <th>2</th>\n",
       "      <td>ITAMAE SUSHI</td>\n",
       "      <td>1-chome-19-1 Kabukicho Shinjuku City Tokyo-to</td>\n",
       "      <td>050-5589-2295</td>\n",
       "      <td>https://tabelog.com/en/tokyo/A1304/A130401/131...</td>\n",
       "      <td>【店内営業/テイクアウト】 全日08:00～翌05:00［ランチタイム］11:30～15:00</td>\n",
       "      <td>￥3,000～￥3,999</td>\n",
       "      <td>～￥999</td>\n",
       "      <td>3.25</td>\n",
       "      <td>111</td>\n",
       "    </tr>\n",
       "    <tr>\n",
       "      <th>3</th>\n",
       "      <td>sushishiorianyamashiro</td>\n",
       "      <td>5-chome-12-10 Shiba Minato City Tokyo-to</td>\n",
       "      <td>050-5456-8458</td>\n",
       "      <td>https://tabelog.com/en/tokyo/A1314/A131402/132...</td>\n",
       "      <td>ランチ　　12:00~14:00ディナー　17:00~23:00</td>\n",
       "      <td>￥10,000～￥14,999</td>\n",
       "      <td>￥1,000～￥1,999</td>\n",
       "      <td>3.41</td>\n",
       "      <td>48</td>\n",
       "    </tr>\n",
       "    <tr>\n",
       "      <th>4</th>\n",
       "      <td>Ginzasushikouhonten</td>\n",
       "      <td>2-chome-4-1 Marunouchi Chiyoda City Tokyo-to</td>\n",
       "      <td>050-5596-3820</td>\n",
       "      <td>https://tabelog.com/en/tokyo/A1302/A130201/130...</td>\n",
       "      <td>月～土 ランチ11:00～14:30（L.O.14:00）ディナー17:30～23:00（L...</td>\n",
       "      <td>￥10,000～￥14,999</td>\n",
       "      <td>￥5,000～￥5,999</td>\n",
       "      <td>3.53</td>\n",
       "      <td>48</td>\n",
       "    </tr>\n",
       "    <tr>\n",
       "      <th>...</th>\n",
       "      <td>...</td>\n",
       "      <td>...</td>\n",
       "      <td>...</td>\n",
       "      <td>...</td>\n",
       "      <td>...</td>\n",
       "      <td>...</td>\n",
       "      <td>...</td>\n",
       "      <td>...</td>\n",
       "      <td>...</td>\n",
       "    </tr>\n",
       "    <tr>\n",
       "      <th>1175</th>\n",
       "      <td>Kaitenzushitaisei</td>\n",
       "      <td>6-12 Asahicho Hachioji Tokyo-to</td>\n",
       "      <td>NaN</td>\n",
       "      <td>https://tabelog.com/en/tokyo/A1329/A132904/131...</td>\n",
       "      <td>11:00～20:45</td>\n",
       "      <td>￥1,000～￥1,999</td>\n",
       "      <td>～￥999</td>\n",
       "      <td>3.28</td>\n",
       "      <td>20</td>\n",
       "    </tr>\n",
       "    <tr>\n",
       "      <th>1176</th>\n",
       "      <td>Nigirinoippo</td>\n",
       "      <td>Senju Adachi City Tokyo</td>\n",
       "      <td>050-5868-5967</td>\n",
       "      <td>https://tabelog.com/en/tokyo/A1324/A132402/131...</td>\n",
       "      <td>17:00～23:00(フードL.O.22:00 ドリンクL.O.22:30)</td>\n",
       "      <td>￥6,000～￥7,999</td>\n",
       "      <td>-</td>\n",
       "      <td>3.53</td>\n",
       "      <td>60</td>\n",
       "    </tr>\n",
       "    <tr>\n",
       "      <th>1177</th>\n",
       "      <td>Akasakasushishiorianyamashiro</td>\n",
       "      <td>3-chome-15-13 Akasaka Minato City Tokyo</td>\n",
       "      <td>NaN</td>\n",
       "      <td>https://tabelog.com/en/tokyo/A1308/A130801/132...</td>\n",
       "      <td>通常営業時間16:00 ～ 24:00（23:00）</td>\n",
       "      <td>￥8,000～￥9,999</td>\n",
       "      <td>￥6,000～￥7,999</td>\n",
       "      <td>3.09</td>\n",
       "      <td>15</td>\n",
       "    </tr>\n",
       "    <tr>\n",
       "      <th>1178</th>\n",
       "      <td>sushinomidorisouhonten</td>\n",
       "      <td>1 Chome-20-7 Umegaoka Setagaya-ku Tokyo-to</td>\n",
       "      <td>NaN</td>\n",
       "      <td>https://tabelog.com/en/tokyo/A1318/A131812/130...</td>\n",
       "      <td>[月]11:00～21:00（L.O.20:45）[火～金]11:00～14:00 16:3...</td>\n",
       "      <td>￥3,000～￥3,999</td>\n",
       "      <td>￥2,000～￥2,999</td>\n",
       "      <td>3.53</td>\n",
       "      <td>345</td>\n",
       "    </tr>\n",
       "    <tr>\n",
       "      <th>1179</th>\n",
       "      <td>Koukizushi</td>\n",
       "      <td>2-chome-30-1 Akebonocho Tachikawa Tokyo-to</td>\n",
       "      <td>NaN</td>\n",
       "      <td>https://tabelog.com/en/tokyo/A1329/A132901/130...</td>\n",
       "      <td>[月～金]11:30～14:0017:00～22:00[土・日・祝]17:00～22:00</td>\n",
       "      <td>￥3,000～￥3,999</td>\n",
       "      <td>～￥999</td>\n",
       "      <td>3.46</td>\n",
       "      <td>38</td>\n",
       "    </tr>\n",
       "  </tbody>\n",
       "</table>\n",
       "<p>1180 rows × 9 columns</p>\n",
       "</div>"
      ]
     },
     "metadata": {},
     "execution_count": 79
    }
   ],
   "metadata": {}
  },
  {
   "cell_type": "markdown",
   "source": [
    "### Store in Excel"
   ],
   "metadata": {}
  },
  {
   "cell_type": "code",
   "execution_count": 80,
   "source": [
    "df.describe()"
   ],
   "outputs": [
    {
     "output_type": "execute_result",
     "data": {
      "text/plain": [
       "            Rating      Reviews\n",
       "count  1180.000000  1180.000000\n",
       "mean      3.302864    44.850847\n",
       "std       0.236280    58.168657\n",
       "min       3.000000     0.000000\n",
       "25%       3.090000    14.000000\n",
       "50%       3.270000    25.500000\n",
       "75%       3.440000    52.000000\n",
       "max       4.630000   559.000000"
      ],
      "text/html": [
       "<div>\n",
       "<style scoped>\n",
       "    .dataframe tbody tr th:only-of-type {\n",
       "        vertical-align: middle;\n",
       "    }\n",
       "\n",
       "    .dataframe tbody tr th {\n",
       "        vertical-align: top;\n",
       "    }\n",
       "\n",
       "    .dataframe thead th {\n",
       "        text-align: right;\n",
       "    }\n",
       "</style>\n",
       "<table border=\"1\" class=\"dataframe\">\n",
       "  <thead>\n",
       "    <tr style=\"text-align: right;\">\n",
       "      <th></th>\n",
       "      <th>Rating</th>\n",
       "      <th>Reviews</th>\n",
       "    </tr>\n",
       "  </thead>\n",
       "  <tbody>\n",
       "    <tr>\n",
       "      <th>count</th>\n",
       "      <td>1180.000000</td>\n",
       "      <td>1180.000000</td>\n",
       "    </tr>\n",
       "    <tr>\n",
       "      <th>mean</th>\n",
       "      <td>3.302864</td>\n",
       "      <td>44.850847</td>\n",
       "    </tr>\n",
       "    <tr>\n",
       "      <th>std</th>\n",
       "      <td>0.236280</td>\n",
       "      <td>58.168657</td>\n",
       "    </tr>\n",
       "    <tr>\n",
       "      <th>min</th>\n",
       "      <td>3.000000</td>\n",
       "      <td>0.000000</td>\n",
       "    </tr>\n",
       "    <tr>\n",
       "      <th>25%</th>\n",
       "      <td>3.090000</td>\n",
       "      <td>14.000000</td>\n",
       "    </tr>\n",
       "    <tr>\n",
       "      <th>50%</th>\n",
       "      <td>3.270000</td>\n",
       "      <td>25.500000</td>\n",
       "    </tr>\n",
       "    <tr>\n",
       "      <th>75%</th>\n",
       "      <td>3.440000</td>\n",
       "      <td>52.000000</td>\n",
       "    </tr>\n",
       "    <tr>\n",
       "      <th>max</th>\n",
       "      <td>4.630000</td>\n",
       "      <td>559.000000</td>\n",
       "    </tr>\n",
       "  </tbody>\n",
       "</table>\n",
       "</div>"
      ]
     },
     "metadata": {},
     "execution_count": 80
    }
   ],
   "metadata": {}
  },
  {
   "cell_type": "code",
   "execution_count": 136,
   "source": [
    "df_restaurant['Reviews'] = df_restaurant['Reviews'].replace({'-':None})"
   ],
   "outputs": [],
   "metadata": {}
  },
  {
   "cell_type": "code",
   "execution_count": 143,
   "source": [
    "df_restaurant.dtypes\n",
    "df_restaurant['Reviews'] = (pd.to_numeric(df_restaurant['Reviews'])\n",
    "                            .where(df_restaurant['Reviews'].notnull()))\n",
    "df_restaurant['Reviews'].describe()"
   ],
   "outputs": [
    {
     "output_type": "execute_result",
     "data": {
      "text/plain": [
       "count    1180.000000\n",
       "mean       44.850847\n",
       "std        58.168657\n",
       "min         0.000000\n",
       "25%        14.000000\n",
       "50%        25.500000\n",
       "75%        52.000000\n",
       "max       559.000000\n",
       "Name: Reviews, dtype: float64"
      ]
     },
     "metadata": {},
     "execution_count": 143
    }
   ],
   "metadata": {}
  },
  {
   "cell_type": "code",
   "execution_count": null,
   "source": [
    "df_restaurant.dtypes\n",
    "df_restaurant['Rating'] = (pd.to_numeric(df_restaurant['Rating'], downcast='float')\n",
    "                            .where(df_restaurant['Rating'].notnull()))\n",
    "df_restaurant['Rating'].describe()"
   ],
   "outputs": [],
   "metadata": {}
  },
  {
   "cell_type": "code",
   "execution_count": 139,
   "source": [
    "df_restaurant['Rating'].mean()\n",
    "df_restaurant['Reviews'].mean()"
   ],
   "outputs": [
    {
     "output_type": "execute_result",
     "data": {
      "text/plain": [
       "44.85084745762712"
      ]
     },
     "metadata": {},
     "execution_count": 139
    }
   ],
   "metadata": {}
  },
  {
   "cell_type": "code",
   "execution_count": null,
   "source": [],
   "outputs": [],
   "metadata": {}
  },
  {
   "cell_type": "code",
   "execution_count": 111,
   "source": [
    "top10_rating = df_restaurant[['Name', 'Address', 'Rating', 'Reviews']].nlargest(10,'Rating').sort_values(by = 'Rating',ascending=False)\n",
    "top10_rating['Average_Rating']  = df_restaurant['Rating'].mean()\n",
    "top10_rating"
   ],
   "outputs": [
    {
     "output_type": "execute_result",
     "data": {
      "text/plain": [
       "               Name                                            Address  \\\n",
       "812          Sugita  1-chome-33-6 Nihonbashikakigaracho Chuo City T...   \n",
       "931      Sushinamba        1-chome-1-2 Yurakucho Chiyoda City Tokyo-to   \n",
       "611          Mitani        1-chome-1-22 Yotsuya Shinjuku City Tokyo-to   \n",
       "783          Sawada              5-chome-9-19 Ginza Chuo City Tokyo-to   \n",
       "1039         Kimura       3-chome-21-8 Tamagawa Setagaya City Tokyo-to   \n",
       "712       Takamitsu          1-chome-28-2 Aobadai Meguro City Tokyo-to   \n",
       "1021   Hatsunezushi                         Nishikamata Ota City Tokyo   \n",
       "1122      Sushi Sho                        Yotsuya Shinjuku City Tokyo   \n",
       "863   sushishunsuke  3-chome-44-4 Asagayaminami Suginami City Tokyo-to   \n",
       "702   Sushifujinaga           2 Chome-9-5 Azabujuban Minato City Tokyo   \n",
       "\n",
       "      Rating Reviews  Average_Rating  \n",
       "812     4.63     365        3.302864  \n",
       "931     4.55     269        3.302864  \n",
       "611     4.51     199        3.302864  \n",
       "783     4.49     257        3.302864  \n",
       "1039    4.45     252        3.302864  \n",
       "712     4.43     233        3.302864  \n",
       "1021    4.38     343        3.302864  \n",
       "1122    4.32     539        3.302864  \n",
       "863     4.31     236        3.302864  \n",
       "702     4.25     100        3.302864  "
      ],
      "text/html": [
       "<div>\n",
       "<style scoped>\n",
       "    .dataframe tbody tr th:only-of-type {\n",
       "        vertical-align: middle;\n",
       "    }\n",
       "\n",
       "    .dataframe tbody tr th {\n",
       "        vertical-align: top;\n",
       "    }\n",
       "\n",
       "    .dataframe thead th {\n",
       "        text-align: right;\n",
       "    }\n",
       "</style>\n",
       "<table border=\"1\" class=\"dataframe\">\n",
       "  <thead>\n",
       "    <tr style=\"text-align: right;\">\n",
       "      <th></th>\n",
       "      <th>Name</th>\n",
       "      <th>Address</th>\n",
       "      <th>Rating</th>\n",
       "      <th>Reviews</th>\n",
       "      <th>Average_Rating</th>\n",
       "    </tr>\n",
       "  </thead>\n",
       "  <tbody>\n",
       "    <tr>\n",
       "      <th>812</th>\n",
       "      <td>Sugita</td>\n",
       "      <td>1-chome-33-6 Nihonbashikakigaracho Chuo City T...</td>\n",
       "      <td>4.63</td>\n",
       "      <td>365</td>\n",
       "      <td>3.302864</td>\n",
       "    </tr>\n",
       "    <tr>\n",
       "      <th>931</th>\n",
       "      <td>Sushinamba</td>\n",
       "      <td>1-chome-1-2 Yurakucho Chiyoda City Tokyo-to</td>\n",
       "      <td>4.55</td>\n",
       "      <td>269</td>\n",
       "      <td>3.302864</td>\n",
       "    </tr>\n",
       "    <tr>\n",
       "      <th>611</th>\n",
       "      <td>Mitani</td>\n",
       "      <td>1-chome-1-22 Yotsuya Shinjuku City Tokyo-to</td>\n",
       "      <td>4.51</td>\n",
       "      <td>199</td>\n",
       "      <td>3.302864</td>\n",
       "    </tr>\n",
       "    <tr>\n",
       "      <th>783</th>\n",
       "      <td>Sawada</td>\n",
       "      <td>5-chome-9-19 Ginza Chuo City Tokyo-to</td>\n",
       "      <td>4.49</td>\n",
       "      <td>257</td>\n",
       "      <td>3.302864</td>\n",
       "    </tr>\n",
       "    <tr>\n",
       "      <th>1039</th>\n",
       "      <td>Kimura</td>\n",
       "      <td>3-chome-21-8 Tamagawa Setagaya City Tokyo-to</td>\n",
       "      <td>4.45</td>\n",
       "      <td>252</td>\n",
       "      <td>3.302864</td>\n",
       "    </tr>\n",
       "    <tr>\n",
       "      <th>712</th>\n",
       "      <td>Takamitsu</td>\n",
       "      <td>1-chome-28-2 Aobadai Meguro City Tokyo-to</td>\n",
       "      <td>4.43</td>\n",
       "      <td>233</td>\n",
       "      <td>3.302864</td>\n",
       "    </tr>\n",
       "    <tr>\n",
       "      <th>1021</th>\n",
       "      <td>Hatsunezushi</td>\n",
       "      <td>Nishikamata Ota City Tokyo</td>\n",
       "      <td>4.38</td>\n",
       "      <td>343</td>\n",
       "      <td>3.302864</td>\n",
       "    </tr>\n",
       "    <tr>\n",
       "      <th>1122</th>\n",
       "      <td>Sushi Sho</td>\n",
       "      <td>Yotsuya Shinjuku City Tokyo</td>\n",
       "      <td>4.32</td>\n",
       "      <td>539</td>\n",
       "      <td>3.302864</td>\n",
       "    </tr>\n",
       "    <tr>\n",
       "      <th>863</th>\n",
       "      <td>sushishunsuke</td>\n",
       "      <td>3-chome-44-4 Asagayaminami Suginami City Tokyo-to</td>\n",
       "      <td>4.31</td>\n",
       "      <td>236</td>\n",
       "      <td>3.302864</td>\n",
       "    </tr>\n",
       "    <tr>\n",
       "      <th>702</th>\n",
       "      <td>Sushifujinaga</td>\n",
       "      <td>2 Chome-9-5 Azabujuban Minato City Tokyo</td>\n",
       "      <td>4.25</td>\n",
       "      <td>100</td>\n",
       "      <td>3.302864</td>\n",
       "    </tr>\n",
       "  </tbody>\n",
       "</table>\n",
       "</div>"
      ]
     },
     "metadata": {},
     "execution_count": 111
    }
   ],
   "metadata": {}
  },
  {
   "cell_type": "code",
   "execution_count": 102,
   "source": [
    "px.line(top10_rating, x = 'Name', y = ['Rating', 'Average_Rating'])"
   ],
   "outputs": [
    {
     "output_type": "display_data",
     "data": {
      "text/html": [
       "<div>                            <div id=\"159e5cfe-cbd8-4c1b-90d2-900cf075f219\" class=\"plotly-graph-div\" style=\"height:525px; width:100%;\"></div>            <script type=\"text/javascript\">                require([\"plotly\"], function(Plotly) {                    window.PLOTLYENV=window.PLOTLYENV || {};                                    if (document.getElementById(\"159e5cfe-cbd8-4c1b-90d2-900cf075f219\")) {                    Plotly.newPlot(                        \"159e5cfe-cbd8-4c1b-90d2-900cf075f219\",                        [{\"hovertemplate\":\"variable=Rating<br>Name=%{x}<br>value=%{y}<extra></extra>\",\"legendgroup\":\"Rating\",\"line\":{\"color\":\"#636efa\",\"dash\":\"solid\"},\"mode\":\"lines\",\"name\":\"Rating\",\"orientation\":\"v\",\"showlegend\":true,\"type\":\"scatter\",\"x\":[\"Sugita\",\"Sushinamba\",\"Mitani\",\"Sawada\",\"Kimura\",\"Takamitsu\",\"Hatsunezushi\",\"Sushi Sho\",\"sushishunsuke\",\"Sushifujinaga\"],\"xaxis\":\"x\",\"y\":[4.630000114440918,4.550000190734863,4.510000228881836,4.489999771118164,4.449999809265137,4.429999828338623,4.380000114440918,4.320000171661377,4.309999942779541,4.25],\"yaxis\":\"y\"},{\"hovertemplate\":\"variable=Average_Rating<br>Name=%{x}<br>value=%{y}<extra></extra>\",\"legendgroup\":\"Average_Rating\",\"line\":{\"color\":\"#EF553B\",\"dash\":\"solid\"},\"mode\":\"lines\",\"name\":\"Average_Rating\",\"orientation\":\"v\",\"showlegend\":true,\"type\":\"scatter\",\"x\":[\"Sugita\",\"Sushinamba\",\"Mitani\",\"Sawada\",\"Kimura\",\"Takamitsu\",\"Hatsunezushi\",\"Sushi Sho\",\"sushishunsuke\",\"Sushifujinaga\"],\"xaxis\":\"x\",\"y\":[3.3028643131256104,3.3028643131256104,3.3028643131256104,3.3028643131256104,3.3028643131256104,3.3028643131256104,3.3028643131256104,3.3028643131256104,3.3028643131256104,3.3028643131256104],\"yaxis\":\"y\"}],                        {\"legend\":{\"title\":{\"text\":\"variable\"},\"tracegroupgap\":0},\"margin\":{\"t\":60},\"template\":{\"data\":{\"bar\":[{\"error_x\":{\"color\":\"#2a3f5f\"},\"error_y\":{\"color\":\"#2a3f5f\"},\"marker\":{\"line\":{\"color\":\"#E5ECF6\",\"width\":0.5},\"pattern\":{\"fillmode\":\"overlay\",\"size\":10,\"solidity\":0.2}},\"type\":\"bar\"}],\"barpolar\":[{\"marker\":{\"line\":{\"color\":\"#E5ECF6\",\"width\":0.5},\"pattern\":{\"fillmode\":\"overlay\",\"size\":10,\"solidity\":0.2}},\"type\":\"barpolar\"}],\"carpet\":[{\"aaxis\":{\"endlinecolor\":\"#2a3f5f\",\"gridcolor\":\"white\",\"linecolor\":\"white\",\"minorgridcolor\":\"white\",\"startlinecolor\":\"#2a3f5f\"},\"baxis\":{\"endlinecolor\":\"#2a3f5f\",\"gridcolor\":\"white\",\"linecolor\":\"white\",\"minorgridcolor\":\"white\",\"startlinecolor\":\"#2a3f5f\"},\"type\":\"carpet\"}],\"choropleth\":[{\"colorbar\":{\"outlinewidth\":0,\"ticks\":\"\"},\"type\":\"choropleth\"}],\"contour\":[{\"colorbar\":{\"outlinewidth\":0,\"ticks\":\"\"},\"colorscale\":[[0.0,\"#0d0887\"],[0.1111111111111111,\"#46039f\"],[0.2222222222222222,\"#7201a8\"],[0.3333333333333333,\"#9c179e\"],[0.4444444444444444,\"#bd3786\"],[0.5555555555555556,\"#d8576b\"],[0.6666666666666666,\"#ed7953\"],[0.7777777777777778,\"#fb9f3a\"],[0.8888888888888888,\"#fdca26\"],[1.0,\"#f0f921\"]],\"type\":\"contour\"}],\"contourcarpet\":[{\"colorbar\":{\"outlinewidth\":0,\"ticks\":\"\"},\"type\":\"contourcarpet\"}],\"heatmap\":[{\"colorbar\":{\"outlinewidth\":0,\"ticks\":\"\"},\"colorscale\":[[0.0,\"#0d0887\"],[0.1111111111111111,\"#46039f\"],[0.2222222222222222,\"#7201a8\"],[0.3333333333333333,\"#9c179e\"],[0.4444444444444444,\"#bd3786\"],[0.5555555555555556,\"#d8576b\"],[0.6666666666666666,\"#ed7953\"],[0.7777777777777778,\"#fb9f3a\"],[0.8888888888888888,\"#fdca26\"],[1.0,\"#f0f921\"]],\"type\":\"heatmap\"}],\"heatmapgl\":[{\"colorbar\":{\"outlinewidth\":0,\"ticks\":\"\"},\"colorscale\":[[0.0,\"#0d0887\"],[0.1111111111111111,\"#46039f\"],[0.2222222222222222,\"#7201a8\"],[0.3333333333333333,\"#9c179e\"],[0.4444444444444444,\"#bd3786\"],[0.5555555555555556,\"#d8576b\"],[0.6666666666666666,\"#ed7953\"],[0.7777777777777778,\"#fb9f3a\"],[0.8888888888888888,\"#fdca26\"],[1.0,\"#f0f921\"]],\"type\":\"heatmapgl\"}],\"histogram\":[{\"marker\":{\"pattern\":{\"fillmode\":\"overlay\",\"size\":10,\"solidity\":0.2}},\"type\":\"histogram\"}],\"histogram2d\":[{\"colorbar\":{\"outlinewidth\":0,\"ticks\":\"\"},\"colorscale\":[[0.0,\"#0d0887\"],[0.1111111111111111,\"#46039f\"],[0.2222222222222222,\"#7201a8\"],[0.3333333333333333,\"#9c179e\"],[0.4444444444444444,\"#bd3786\"],[0.5555555555555556,\"#d8576b\"],[0.6666666666666666,\"#ed7953\"],[0.7777777777777778,\"#fb9f3a\"],[0.8888888888888888,\"#fdca26\"],[1.0,\"#f0f921\"]],\"type\":\"histogram2d\"}],\"histogram2dcontour\":[{\"colorbar\":{\"outlinewidth\":0,\"ticks\":\"\"},\"colorscale\":[[0.0,\"#0d0887\"],[0.1111111111111111,\"#46039f\"],[0.2222222222222222,\"#7201a8\"],[0.3333333333333333,\"#9c179e\"],[0.4444444444444444,\"#bd3786\"],[0.5555555555555556,\"#d8576b\"],[0.6666666666666666,\"#ed7953\"],[0.7777777777777778,\"#fb9f3a\"],[0.8888888888888888,\"#fdca26\"],[1.0,\"#f0f921\"]],\"type\":\"histogram2dcontour\"}],\"mesh3d\":[{\"colorbar\":{\"outlinewidth\":0,\"ticks\":\"\"},\"type\":\"mesh3d\"}],\"parcoords\":[{\"line\":{\"colorbar\":{\"outlinewidth\":0,\"ticks\":\"\"}},\"type\":\"parcoords\"}],\"pie\":[{\"automargin\":true,\"type\":\"pie\"}],\"scatter\":[{\"marker\":{\"colorbar\":{\"outlinewidth\":0,\"ticks\":\"\"}},\"type\":\"scatter\"}],\"scatter3d\":[{\"line\":{\"colorbar\":{\"outlinewidth\":0,\"ticks\":\"\"}},\"marker\":{\"colorbar\":{\"outlinewidth\":0,\"ticks\":\"\"}},\"type\":\"scatter3d\"}],\"scattercarpet\":[{\"marker\":{\"colorbar\":{\"outlinewidth\":0,\"ticks\":\"\"}},\"type\":\"scattercarpet\"}],\"scattergeo\":[{\"marker\":{\"colorbar\":{\"outlinewidth\":0,\"ticks\":\"\"}},\"type\":\"scattergeo\"}],\"scattergl\":[{\"marker\":{\"colorbar\":{\"outlinewidth\":0,\"ticks\":\"\"}},\"type\":\"scattergl\"}],\"scattermapbox\":[{\"marker\":{\"colorbar\":{\"outlinewidth\":0,\"ticks\":\"\"}},\"type\":\"scattermapbox\"}],\"scatterpolar\":[{\"marker\":{\"colorbar\":{\"outlinewidth\":0,\"ticks\":\"\"}},\"type\":\"scatterpolar\"}],\"scatterpolargl\":[{\"marker\":{\"colorbar\":{\"outlinewidth\":0,\"ticks\":\"\"}},\"type\":\"scatterpolargl\"}],\"scatterternary\":[{\"marker\":{\"colorbar\":{\"outlinewidth\":0,\"ticks\":\"\"}},\"type\":\"scatterternary\"}],\"surface\":[{\"colorbar\":{\"outlinewidth\":0,\"ticks\":\"\"},\"colorscale\":[[0.0,\"#0d0887\"],[0.1111111111111111,\"#46039f\"],[0.2222222222222222,\"#7201a8\"],[0.3333333333333333,\"#9c179e\"],[0.4444444444444444,\"#bd3786\"],[0.5555555555555556,\"#d8576b\"],[0.6666666666666666,\"#ed7953\"],[0.7777777777777778,\"#fb9f3a\"],[0.8888888888888888,\"#fdca26\"],[1.0,\"#f0f921\"]],\"type\":\"surface\"}],\"table\":[{\"cells\":{\"fill\":{\"color\":\"#EBF0F8\"},\"line\":{\"color\":\"white\"}},\"header\":{\"fill\":{\"color\":\"#C8D4E3\"},\"line\":{\"color\":\"white\"}},\"type\":\"table\"}]},\"layout\":{\"annotationdefaults\":{\"arrowcolor\":\"#2a3f5f\",\"arrowhead\":0,\"arrowwidth\":1},\"autotypenumbers\":\"strict\",\"coloraxis\":{\"colorbar\":{\"outlinewidth\":0,\"ticks\":\"\"}},\"colorscale\":{\"diverging\":[[0,\"#8e0152\"],[0.1,\"#c51b7d\"],[0.2,\"#de77ae\"],[0.3,\"#f1b6da\"],[0.4,\"#fde0ef\"],[0.5,\"#f7f7f7\"],[0.6,\"#e6f5d0\"],[0.7,\"#b8e186\"],[0.8,\"#7fbc41\"],[0.9,\"#4d9221\"],[1,\"#276419\"]],\"sequential\":[[0.0,\"#0d0887\"],[0.1111111111111111,\"#46039f\"],[0.2222222222222222,\"#7201a8\"],[0.3333333333333333,\"#9c179e\"],[0.4444444444444444,\"#bd3786\"],[0.5555555555555556,\"#d8576b\"],[0.6666666666666666,\"#ed7953\"],[0.7777777777777778,\"#fb9f3a\"],[0.8888888888888888,\"#fdca26\"],[1.0,\"#f0f921\"]],\"sequentialminus\":[[0.0,\"#0d0887\"],[0.1111111111111111,\"#46039f\"],[0.2222222222222222,\"#7201a8\"],[0.3333333333333333,\"#9c179e\"],[0.4444444444444444,\"#bd3786\"],[0.5555555555555556,\"#d8576b\"],[0.6666666666666666,\"#ed7953\"],[0.7777777777777778,\"#fb9f3a\"],[0.8888888888888888,\"#fdca26\"],[1.0,\"#f0f921\"]]},\"colorway\":[\"#636efa\",\"#EF553B\",\"#00cc96\",\"#ab63fa\",\"#FFA15A\",\"#19d3f3\",\"#FF6692\",\"#B6E880\",\"#FF97FF\",\"#FECB52\"],\"font\":{\"color\":\"#2a3f5f\"},\"geo\":{\"bgcolor\":\"white\",\"lakecolor\":\"white\",\"landcolor\":\"#E5ECF6\",\"showlakes\":true,\"showland\":true,\"subunitcolor\":\"white\"},\"hoverlabel\":{\"align\":\"left\"},\"hovermode\":\"closest\",\"mapbox\":{\"style\":\"light\"},\"paper_bgcolor\":\"white\",\"plot_bgcolor\":\"#E5ECF6\",\"polar\":{\"angularaxis\":{\"gridcolor\":\"white\",\"linecolor\":\"white\",\"ticks\":\"\"},\"bgcolor\":\"#E5ECF6\",\"radialaxis\":{\"gridcolor\":\"white\",\"linecolor\":\"white\",\"ticks\":\"\"}},\"scene\":{\"xaxis\":{\"backgroundcolor\":\"#E5ECF6\",\"gridcolor\":\"white\",\"gridwidth\":2,\"linecolor\":\"white\",\"showbackground\":true,\"ticks\":\"\",\"zerolinecolor\":\"white\"},\"yaxis\":{\"backgroundcolor\":\"#E5ECF6\",\"gridcolor\":\"white\",\"gridwidth\":2,\"linecolor\":\"white\",\"showbackground\":true,\"ticks\":\"\",\"zerolinecolor\":\"white\"},\"zaxis\":{\"backgroundcolor\":\"#E5ECF6\",\"gridcolor\":\"white\",\"gridwidth\":2,\"linecolor\":\"white\",\"showbackground\":true,\"ticks\":\"\",\"zerolinecolor\":\"white\"}},\"shapedefaults\":{\"line\":{\"color\":\"#2a3f5f\"}},\"ternary\":{\"aaxis\":{\"gridcolor\":\"white\",\"linecolor\":\"white\",\"ticks\":\"\"},\"baxis\":{\"gridcolor\":\"white\",\"linecolor\":\"white\",\"ticks\":\"\"},\"bgcolor\":\"#E5ECF6\",\"caxis\":{\"gridcolor\":\"white\",\"linecolor\":\"white\",\"ticks\":\"\"}},\"title\":{\"x\":0.05},\"xaxis\":{\"automargin\":true,\"gridcolor\":\"white\",\"linecolor\":\"white\",\"ticks\":\"\",\"title\":{\"standoff\":15},\"zerolinecolor\":\"white\",\"zerolinewidth\":2},\"yaxis\":{\"automargin\":true,\"gridcolor\":\"white\",\"linecolor\":\"white\",\"ticks\":\"\",\"title\":{\"standoff\":15},\"zerolinecolor\":\"white\",\"zerolinewidth\":2}}},\"xaxis\":{\"anchor\":\"y\",\"domain\":[0.0,1.0],\"title\":{\"text\":\"Name\"}},\"yaxis\":{\"anchor\":\"x\",\"domain\":[0.0,1.0],\"title\":{\"text\":\"value\"}}},                        {\"responsive\": true}                    ).then(function(){\n",
       "                            \n",
       "var gd = document.getElementById('159e5cfe-cbd8-4c1b-90d2-900cf075f219');\n",
       "var x = new MutationObserver(function (mutations, observer) {{\n",
       "        var display = window.getComputedStyle(gd).display;\n",
       "        if (!display || display === 'none') {{\n",
       "            console.log([gd, 'removed!']);\n",
       "            Plotly.purge(gd);\n",
       "            observer.disconnect();\n",
       "        }}\n",
       "}});\n",
       "\n",
       "// Listen for the removal of the full notebook cells\n",
       "var notebookContainer = gd.closest('#notebook-container');\n",
       "if (notebookContainer) {{\n",
       "    x.observe(notebookContainer, {childList: true});\n",
       "}}\n",
       "\n",
       "// Listen for the clearing of the current output cell\n",
       "var outputEl = gd.closest('.output');\n",
       "if (outputEl) {{\n",
       "    x.observe(outputEl, {childList: true});\n",
       "}}\n",
       "\n",
       "                        })                };                });            </script>        </div>"
      ],
      "application/vnd.plotly.v1+json": {
       "config": {
        "plotlyServerURL": "https://plot.ly"
       },
       "data": [
        {
         "hovertemplate": "variable=Rating<br>Name=%{x}<br>value=%{y}<extra></extra>",
         "legendgroup": "Rating",
         "line": {
          "color": "#636efa",
          "dash": "solid"
         },
         "mode": "lines",
         "name": "Rating",
         "orientation": "v",
         "showlegend": true,
         "type": "scatter",
         "x": [
          "Sugita",
          "Sushinamba",
          "Mitani",
          "Sawada",
          "Kimura",
          "Takamitsu",
          "Hatsunezushi",
          "Sushi Sho",
          "sushishunsuke",
          "Sushifujinaga"
         ],
         "xaxis": "x",
         "y": [
          4.630000114440918,
          4.550000190734863,
          4.510000228881836,
          4.489999771118164,
          4.449999809265137,
          4.429999828338623,
          4.380000114440918,
          4.320000171661377,
          4.309999942779541,
          4.25
         ],
         "yaxis": "y"
        },
        {
         "hovertemplate": "variable=Average_Rating<br>Name=%{x}<br>value=%{y}<extra></extra>",
         "legendgroup": "Average_Rating",
         "line": {
          "color": "#EF553B",
          "dash": "solid"
         },
         "mode": "lines",
         "name": "Average_Rating",
         "orientation": "v",
         "showlegend": true,
         "type": "scatter",
         "x": [
          "Sugita",
          "Sushinamba",
          "Mitani",
          "Sawada",
          "Kimura",
          "Takamitsu",
          "Hatsunezushi",
          "Sushi Sho",
          "sushishunsuke",
          "Sushifujinaga"
         ],
         "xaxis": "x",
         "y": [
          3.3028643131256104,
          3.3028643131256104,
          3.3028643131256104,
          3.3028643131256104,
          3.3028643131256104,
          3.3028643131256104,
          3.3028643131256104,
          3.3028643131256104,
          3.3028643131256104,
          3.3028643131256104
         ],
         "yaxis": "y"
        }
       ],
       "layout": {
        "legend": {
         "title": {
          "text": "variable"
         },
         "tracegroupgap": 0
        },
        "margin": {
         "t": 60
        },
        "template": {
         "data": {
          "bar": [
           {
            "error_x": {
             "color": "#2a3f5f"
            },
            "error_y": {
             "color": "#2a3f5f"
            },
            "marker": {
             "line": {
              "color": "#E5ECF6",
              "width": 0.5
             },
             "pattern": {
              "fillmode": "overlay",
              "size": 10,
              "solidity": 0.2
             }
            },
            "type": "bar"
           }
          ],
          "barpolar": [
           {
            "marker": {
             "line": {
              "color": "#E5ECF6",
              "width": 0.5
             },
             "pattern": {
              "fillmode": "overlay",
              "size": 10,
              "solidity": 0.2
             }
            },
            "type": "barpolar"
           }
          ],
          "carpet": [
           {
            "aaxis": {
             "endlinecolor": "#2a3f5f",
             "gridcolor": "white",
             "linecolor": "white",
             "minorgridcolor": "white",
             "startlinecolor": "#2a3f5f"
            },
            "baxis": {
             "endlinecolor": "#2a3f5f",
             "gridcolor": "white",
             "linecolor": "white",
             "minorgridcolor": "white",
             "startlinecolor": "#2a3f5f"
            },
            "type": "carpet"
           }
          ],
          "choropleth": [
           {
            "colorbar": {
             "outlinewidth": 0,
             "ticks": ""
            },
            "type": "choropleth"
           }
          ],
          "contour": [
           {
            "colorbar": {
             "outlinewidth": 0,
             "ticks": ""
            },
            "colorscale": [
             [
              0,
              "#0d0887"
             ],
             [
              0.1111111111111111,
              "#46039f"
             ],
             [
              0.2222222222222222,
              "#7201a8"
             ],
             [
              0.3333333333333333,
              "#9c179e"
             ],
             [
              0.4444444444444444,
              "#bd3786"
             ],
             [
              0.5555555555555556,
              "#d8576b"
             ],
             [
              0.6666666666666666,
              "#ed7953"
             ],
             [
              0.7777777777777778,
              "#fb9f3a"
             ],
             [
              0.8888888888888888,
              "#fdca26"
             ],
             [
              1,
              "#f0f921"
             ]
            ],
            "type": "contour"
           }
          ],
          "contourcarpet": [
           {
            "colorbar": {
             "outlinewidth": 0,
             "ticks": ""
            },
            "type": "contourcarpet"
           }
          ],
          "heatmap": [
           {
            "colorbar": {
             "outlinewidth": 0,
             "ticks": ""
            },
            "colorscale": [
             [
              0,
              "#0d0887"
             ],
             [
              0.1111111111111111,
              "#46039f"
             ],
             [
              0.2222222222222222,
              "#7201a8"
             ],
             [
              0.3333333333333333,
              "#9c179e"
             ],
             [
              0.4444444444444444,
              "#bd3786"
             ],
             [
              0.5555555555555556,
              "#d8576b"
             ],
             [
              0.6666666666666666,
              "#ed7953"
             ],
             [
              0.7777777777777778,
              "#fb9f3a"
             ],
             [
              0.8888888888888888,
              "#fdca26"
             ],
             [
              1,
              "#f0f921"
             ]
            ],
            "type": "heatmap"
           }
          ],
          "heatmapgl": [
           {
            "colorbar": {
             "outlinewidth": 0,
             "ticks": ""
            },
            "colorscale": [
             [
              0,
              "#0d0887"
             ],
             [
              0.1111111111111111,
              "#46039f"
             ],
             [
              0.2222222222222222,
              "#7201a8"
             ],
             [
              0.3333333333333333,
              "#9c179e"
             ],
             [
              0.4444444444444444,
              "#bd3786"
             ],
             [
              0.5555555555555556,
              "#d8576b"
             ],
             [
              0.6666666666666666,
              "#ed7953"
             ],
             [
              0.7777777777777778,
              "#fb9f3a"
             ],
             [
              0.8888888888888888,
              "#fdca26"
             ],
             [
              1,
              "#f0f921"
             ]
            ],
            "type": "heatmapgl"
           }
          ],
          "histogram": [
           {
            "marker": {
             "pattern": {
              "fillmode": "overlay",
              "size": 10,
              "solidity": 0.2
             }
            },
            "type": "histogram"
           }
          ],
          "histogram2d": [
           {
            "colorbar": {
             "outlinewidth": 0,
             "ticks": ""
            },
            "colorscale": [
             [
              0,
              "#0d0887"
             ],
             [
              0.1111111111111111,
              "#46039f"
             ],
             [
              0.2222222222222222,
              "#7201a8"
             ],
             [
              0.3333333333333333,
              "#9c179e"
             ],
             [
              0.4444444444444444,
              "#bd3786"
             ],
             [
              0.5555555555555556,
              "#d8576b"
             ],
             [
              0.6666666666666666,
              "#ed7953"
             ],
             [
              0.7777777777777778,
              "#fb9f3a"
             ],
             [
              0.8888888888888888,
              "#fdca26"
             ],
             [
              1,
              "#f0f921"
             ]
            ],
            "type": "histogram2d"
           }
          ],
          "histogram2dcontour": [
           {
            "colorbar": {
             "outlinewidth": 0,
             "ticks": ""
            },
            "colorscale": [
             [
              0,
              "#0d0887"
             ],
             [
              0.1111111111111111,
              "#46039f"
             ],
             [
              0.2222222222222222,
              "#7201a8"
             ],
             [
              0.3333333333333333,
              "#9c179e"
             ],
             [
              0.4444444444444444,
              "#bd3786"
             ],
             [
              0.5555555555555556,
              "#d8576b"
             ],
             [
              0.6666666666666666,
              "#ed7953"
             ],
             [
              0.7777777777777778,
              "#fb9f3a"
             ],
             [
              0.8888888888888888,
              "#fdca26"
             ],
             [
              1,
              "#f0f921"
             ]
            ],
            "type": "histogram2dcontour"
           }
          ],
          "mesh3d": [
           {
            "colorbar": {
             "outlinewidth": 0,
             "ticks": ""
            },
            "type": "mesh3d"
           }
          ],
          "parcoords": [
           {
            "line": {
             "colorbar": {
              "outlinewidth": 0,
              "ticks": ""
             }
            },
            "type": "parcoords"
           }
          ],
          "pie": [
           {
            "automargin": true,
            "type": "pie"
           }
          ],
          "scatter": [
           {
            "marker": {
             "colorbar": {
              "outlinewidth": 0,
              "ticks": ""
             }
            },
            "type": "scatter"
           }
          ],
          "scatter3d": [
           {
            "line": {
             "colorbar": {
              "outlinewidth": 0,
              "ticks": ""
             }
            },
            "marker": {
             "colorbar": {
              "outlinewidth": 0,
              "ticks": ""
             }
            },
            "type": "scatter3d"
           }
          ],
          "scattercarpet": [
           {
            "marker": {
             "colorbar": {
              "outlinewidth": 0,
              "ticks": ""
             }
            },
            "type": "scattercarpet"
           }
          ],
          "scattergeo": [
           {
            "marker": {
             "colorbar": {
              "outlinewidth": 0,
              "ticks": ""
             }
            },
            "type": "scattergeo"
           }
          ],
          "scattergl": [
           {
            "marker": {
             "colorbar": {
              "outlinewidth": 0,
              "ticks": ""
             }
            },
            "type": "scattergl"
           }
          ],
          "scattermapbox": [
           {
            "marker": {
             "colorbar": {
              "outlinewidth": 0,
              "ticks": ""
             }
            },
            "type": "scattermapbox"
           }
          ],
          "scatterpolar": [
           {
            "marker": {
             "colorbar": {
              "outlinewidth": 0,
              "ticks": ""
             }
            },
            "type": "scatterpolar"
           }
          ],
          "scatterpolargl": [
           {
            "marker": {
             "colorbar": {
              "outlinewidth": 0,
              "ticks": ""
             }
            },
            "type": "scatterpolargl"
           }
          ],
          "scatterternary": [
           {
            "marker": {
             "colorbar": {
              "outlinewidth": 0,
              "ticks": ""
             }
            },
            "type": "scatterternary"
           }
          ],
          "surface": [
           {
            "colorbar": {
             "outlinewidth": 0,
             "ticks": ""
            },
            "colorscale": [
             [
              0,
              "#0d0887"
             ],
             [
              0.1111111111111111,
              "#46039f"
             ],
             [
              0.2222222222222222,
              "#7201a8"
             ],
             [
              0.3333333333333333,
              "#9c179e"
             ],
             [
              0.4444444444444444,
              "#bd3786"
             ],
             [
              0.5555555555555556,
              "#d8576b"
             ],
             [
              0.6666666666666666,
              "#ed7953"
             ],
             [
              0.7777777777777778,
              "#fb9f3a"
             ],
             [
              0.8888888888888888,
              "#fdca26"
             ],
             [
              1,
              "#f0f921"
             ]
            ],
            "type": "surface"
           }
          ],
          "table": [
           {
            "cells": {
             "fill": {
              "color": "#EBF0F8"
             },
             "line": {
              "color": "white"
             }
            },
            "header": {
             "fill": {
              "color": "#C8D4E3"
             },
             "line": {
              "color": "white"
             }
            },
            "type": "table"
           }
          ]
         },
         "layout": {
          "annotationdefaults": {
           "arrowcolor": "#2a3f5f",
           "arrowhead": 0,
           "arrowwidth": 1
          },
          "autotypenumbers": "strict",
          "coloraxis": {
           "colorbar": {
            "outlinewidth": 0,
            "ticks": ""
           }
          },
          "colorscale": {
           "diverging": [
            [
             0,
             "#8e0152"
            ],
            [
             0.1,
             "#c51b7d"
            ],
            [
             0.2,
             "#de77ae"
            ],
            [
             0.3,
             "#f1b6da"
            ],
            [
             0.4,
             "#fde0ef"
            ],
            [
             0.5,
             "#f7f7f7"
            ],
            [
             0.6,
             "#e6f5d0"
            ],
            [
             0.7,
             "#b8e186"
            ],
            [
             0.8,
             "#7fbc41"
            ],
            [
             0.9,
             "#4d9221"
            ],
            [
             1,
             "#276419"
            ]
           ],
           "sequential": [
            [
             0,
             "#0d0887"
            ],
            [
             0.1111111111111111,
             "#46039f"
            ],
            [
             0.2222222222222222,
             "#7201a8"
            ],
            [
             0.3333333333333333,
             "#9c179e"
            ],
            [
             0.4444444444444444,
             "#bd3786"
            ],
            [
             0.5555555555555556,
             "#d8576b"
            ],
            [
             0.6666666666666666,
             "#ed7953"
            ],
            [
             0.7777777777777778,
             "#fb9f3a"
            ],
            [
             0.8888888888888888,
             "#fdca26"
            ],
            [
             1,
             "#f0f921"
            ]
           ],
           "sequentialminus": [
            [
             0,
             "#0d0887"
            ],
            [
             0.1111111111111111,
             "#46039f"
            ],
            [
             0.2222222222222222,
             "#7201a8"
            ],
            [
             0.3333333333333333,
             "#9c179e"
            ],
            [
             0.4444444444444444,
             "#bd3786"
            ],
            [
             0.5555555555555556,
             "#d8576b"
            ],
            [
             0.6666666666666666,
             "#ed7953"
            ],
            [
             0.7777777777777778,
             "#fb9f3a"
            ],
            [
             0.8888888888888888,
             "#fdca26"
            ],
            [
             1,
             "#f0f921"
            ]
           ]
          },
          "colorway": [
           "#636efa",
           "#EF553B",
           "#00cc96",
           "#ab63fa",
           "#FFA15A",
           "#19d3f3",
           "#FF6692",
           "#B6E880",
           "#FF97FF",
           "#FECB52"
          ],
          "font": {
           "color": "#2a3f5f"
          },
          "geo": {
           "bgcolor": "white",
           "lakecolor": "white",
           "landcolor": "#E5ECF6",
           "showlakes": true,
           "showland": true,
           "subunitcolor": "white"
          },
          "hoverlabel": {
           "align": "left"
          },
          "hovermode": "closest",
          "mapbox": {
           "style": "light"
          },
          "paper_bgcolor": "white",
          "plot_bgcolor": "#E5ECF6",
          "polar": {
           "angularaxis": {
            "gridcolor": "white",
            "linecolor": "white",
            "ticks": ""
           },
           "bgcolor": "#E5ECF6",
           "radialaxis": {
            "gridcolor": "white",
            "linecolor": "white",
            "ticks": ""
           }
          },
          "scene": {
           "xaxis": {
            "backgroundcolor": "#E5ECF6",
            "gridcolor": "white",
            "gridwidth": 2,
            "linecolor": "white",
            "showbackground": true,
            "ticks": "",
            "zerolinecolor": "white"
           },
           "yaxis": {
            "backgroundcolor": "#E5ECF6",
            "gridcolor": "white",
            "gridwidth": 2,
            "linecolor": "white",
            "showbackground": true,
            "ticks": "",
            "zerolinecolor": "white"
           },
           "zaxis": {
            "backgroundcolor": "#E5ECF6",
            "gridcolor": "white",
            "gridwidth": 2,
            "linecolor": "white",
            "showbackground": true,
            "ticks": "",
            "zerolinecolor": "white"
           }
          },
          "shapedefaults": {
           "line": {
            "color": "#2a3f5f"
           }
          },
          "ternary": {
           "aaxis": {
            "gridcolor": "white",
            "linecolor": "white",
            "ticks": ""
           },
           "baxis": {
            "gridcolor": "white",
            "linecolor": "white",
            "ticks": ""
           },
           "bgcolor": "#E5ECF6",
           "caxis": {
            "gridcolor": "white",
            "linecolor": "white",
            "ticks": ""
           }
          },
          "title": {
           "x": 0.05
          },
          "xaxis": {
           "automargin": true,
           "gridcolor": "white",
           "linecolor": "white",
           "ticks": "",
           "title": {
            "standoff": 15
           },
           "zerolinecolor": "white",
           "zerolinewidth": 2
          },
          "yaxis": {
           "automargin": true,
           "gridcolor": "white",
           "linecolor": "white",
           "ticks": "",
           "title": {
            "standoff": 15
           },
           "zerolinecolor": "white",
           "zerolinewidth": 2
          }
         }
        },
        "xaxis": {
         "anchor": "y",
         "domain": [
          0,
          1
         ],
         "title": {
          "text": "Name"
         }
        },
        "yaxis": {
         "anchor": "x",
         "domain": [
          0,
          1
         ],
         "title": {
          "text": "value"
         }
        }
       }
      }
     },
     "metadata": {}
    }
   ],
   "metadata": {}
  },
  {
   "cell_type": "code",
   "execution_count": 134,
   "source": [
    "# fig = go.Figure(data = [\n",
    "#     go.Bar(name = 'Top Rating', x = 'Name', y  = 'Rating'),\n",
    "#     go.Bar(name = 'Number of Rating', x = 'Name', y = 'Reviews')\n",
    "# ])\n",
    "# fig.update_layout(barmode = 'group')\n",
    "# fig.show()\n",
    "subfig = make_subplots(specs=[[{\"secondary_y\": True}]])\n",
    "Ratingchart = px.bar(top10_rating, x = 'Name', y = 'Rating', color= 'Rating')\n",
    "No_rating_chart = px.bar(top10_rating, x = 'Name', y = 'Reviews')\n",
    "No_rating_chart.update_traces(yaxis=\"y2\")\n",
    "subfig.add_traces(Ratingchart.data + No_rating_chart.data)\n",
    "subfig.layout.xaxis.title = 'Restaurants'\n",
    "subfig.layout.yaxis.title = 'Rating'\n",
    "subfig.layout.yaxis2.title = 'Number of Review'\n",
    "#subfig.for_each_trace(lambda t: t.update(color = t.marker.color))\n",
    "subfig"
   ],
   "outputs": [
    {
     "output_type": "display_data",
     "data": {
      "text/html": [
       "<div>                            <div id=\"b9dd3d01-9a27-4f0d-938d-4baf3c23fc50\" class=\"plotly-graph-div\" style=\"height:525px; width:100%;\"></div>            <script type=\"text/javascript\">                require([\"plotly\"], function(Plotly) {                    window.PLOTLYENV=window.PLOTLYENV || {};                                    if (document.getElementById(\"b9dd3d01-9a27-4f0d-938d-4baf3c23fc50\")) {                    Plotly.newPlot(                        \"b9dd3d01-9a27-4f0d-938d-4baf3c23fc50\",                        [{\"alignmentgroup\":\"True\",\"hovertemplate\":\"Name=%{x}<br>Rating=%{marker.color}<extra></extra>\",\"legendgroup\":\"\",\"marker\":{\"color\":[4.630000114440918,4.550000190734863,4.510000228881836,4.489999771118164,4.449999809265137,4.429999828338623,4.380000114440918,4.320000171661377,4.309999942779541,4.25],\"coloraxis\":\"coloraxis\",\"pattern\":{\"shape\":\"\"}},\"name\":\"\",\"offsetgroup\":\"\",\"orientation\":\"v\",\"showlegend\":false,\"textposition\":\"auto\",\"type\":\"bar\",\"x\":[\"Sugita\",\"Sushinamba\",\"Mitani\",\"Sawada\",\"Kimura\",\"Takamitsu\",\"Hatsunezushi\",\"Sushi Sho\",\"sushishunsuke\",\"Sushifujinaga\"],\"xaxis\":\"x\",\"y\":[4.630000114440918,4.550000190734863,4.510000228881836,4.489999771118164,4.449999809265137,4.429999828338623,4.380000114440918,4.320000171661377,4.309999942779541,4.25],\"yaxis\":\"y\"},{\"alignmentgroup\":\"True\",\"hovertemplate\":\"Name=%{x}<br>Reviews=%{y}<extra></extra>\",\"legendgroup\":\"\",\"marker\":{\"color\":\"#636efa\",\"pattern\":{\"shape\":\"\"}},\"name\":\"\",\"offsetgroup\":\"\",\"orientation\":\"v\",\"showlegend\":false,\"textposition\":\"auto\",\"type\":\"bar\",\"x\":[\"Sugita\",\"Sushinamba\",\"Mitani\",\"Sawada\",\"Kimura\",\"Takamitsu\",\"Hatsunezushi\",\"Sushi Sho\",\"sushishunsuke\",\"Sushifujinaga\"],\"xaxis\":\"x\",\"y\":[\"365\",\"269\",\"199\",\"257\",\"252\",\"233\",\"343\",\"539\",\"236\",\"100\"],\"yaxis\":\"y2\"}],                        {\"template\":{\"data\":{\"bar\":[{\"error_x\":{\"color\":\"#2a3f5f\"},\"error_y\":{\"color\":\"#2a3f5f\"},\"marker\":{\"line\":{\"color\":\"#E5ECF6\",\"width\":0.5},\"pattern\":{\"fillmode\":\"overlay\",\"size\":10,\"solidity\":0.2}},\"type\":\"bar\"}],\"barpolar\":[{\"marker\":{\"line\":{\"color\":\"#E5ECF6\",\"width\":0.5},\"pattern\":{\"fillmode\":\"overlay\",\"size\":10,\"solidity\":0.2}},\"type\":\"barpolar\"}],\"carpet\":[{\"aaxis\":{\"endlinecolor\":\"#2a3f5f\",\"gridcolor\":\"white\",\"linecolor\":\"white\",\"minorgridcolor\":\"white\",\"startlinecolor\":\"#2a3f5f\"},\"baxis\":{\"endlinecolor\":\"#2a3f5f\",\"gridcolor\":\"white\",\"linecolor\":\"white\",\"minorgridcolor\":\"white\",\"startlinecolor\":\"#2a3f5f\"},\"type\":\"carpet\"}],\"choropleth\":[{\"colorbar\":{\"outlinewidth\":0,\"ticks\":\"\"},\"type\":\"choropleth\"}],\"contour\":[{\"colorbar\":{\"outlinewidth\":0,\"ticks\":\"\"},\"colorscale\":[[0.0,\"#0d0887\"],[0.1111111111111111,\"#46039f\"],[0.2222222222222222,\"#7201a8\"],[0.3333333333333333,\"#9c179e\"],[0.4444444444444444,\"#bd3786\"],[0.5555555555555556,\"#d8576b\"],[0.6666666666666666,\"#ed7953\"],[0.7777777777777778,\"#fb9f3a\"],[0.8888888888888888,\"#fdca26\"],[1.0,\"#f0f921\"]],\"type\":\"contour\"}],\"contourcarpet\":[{\"colorbar\":{\"outlinewidth\":0,\"ticks\":\"\"},\"type\":\"contourcarpet\"}],\"heatmap\":[{\"colorbar\":{\"outlinewidth\":0,\"ticks\":\"\"},\"colorscale\":[[0.0,\"#0d0887\"],[0.1111111111111111,\"#46039f\"],[0.2222222222222222,\"#7201a8\"],[0.3333333333333333,\"#9c179e\"],[0.4444444444444444,\"#bd3786\"],[0.5555555555555556,\"#d8576b\"],[0.6666666666666666,\"#ed7953\"],[0.7777777777777778,\"#fb9f3a\"],[0.8888888888888888,\"#fdca26\"],[1.0,\"#f0f921\"]],\"type\":\"heatmap\"}],\"heatmapgl\":[{\"colorbar\":{\"outlinewidth\":0,\"ticks\":\"\"},\"colorscale\":[[0.0,\"#0d0887\"],[0.1111111111111111,\"#46039f\"],[0.2222222222222222,\"#7201a8\"],[0.3333333333333333,\"#9c179e\"],[0.4444444444444444,\"#bd3786\"],[0.5555555555555556,\"#d8576b\"],[0.6666666666666666,\"#ed7953\"],[0.7777777777777778,\"#fb9f3a\"],[0.8888888888888888,\"#fdca26\"],[1.0,\"#f0f921\"]],\"type\":\"heatmapgl\"}],\"histogram\":[{\"marker\":{\"pattern\":{\"fillmode\":\"overlay\",\"size\":10,\"solidity\":0.2}},\"type\":\"histogram\"}],\"histogram2d\":[{\"colorbar\":{\"outlinewidth\":0,\"ticks\":\"\"},\"colorscale\":[[0.0,\"#0d0887\"],[0.1111111111111111,\"#46039f\"],[0.2222222222222222,\"#7201a8\"],[0.3333333333333333,\"#9c179e\"],[0.4444444444444444,\"#bd3786\"],[0.5555555555555556,\"#d8576b\"],[0.6666666666666666,\"#ed7953\"],[0.7777777777777778,\"#fb9f3a\"],[0.8888888888888888,\"#fdca26\"],[1.0,\"#f0f921\"]],\"type\":\"histogram2d\"}],\"histogram2dcontour\":[{\"colorbar\":{\"outlinewidth\":0,\"ticks\":\"\"},\"colorscale\":[[0.0,\"#0d0887\"],[0.1111111111111111,\"#46039f\"],[0.2222222222222222,\"#7201a8\"],[0.3333333333333333,\"#9c179e\"],[0.4444444444444444,\"#bd3786\"],[0.5555555555555556,\"#d8576b\"],[0.6666666666666666,\"#ed7953\"],[0.7777777777777778,\"#fb9f3a\"],[0.8888888888888888,\"#fdca26\"],[1.0,\"#f0f921\"]],\"type\":\"histogram2dcontour\"}],\"mesh3d\":[{\"colorbar\":{\"outlinewidth\":0,\"ticks\":\"\"},\"type\":\"mesh3d\"}],\"parcoords\":[{\"line\":{\"colorbar\":{\"outlinewidth\":0,\"ticks\":\"\"}},\"type\":\"parcoords\"}],\"pie\":[{\"automargin\":true,\"type\":\"pie\"}],\"scatter\":[{\"marker\":{\"colorbar\":{\"outlinewidth\":0,\"ticks\":\"\"}},\"type\":\"scatter\"}],\"scatter3d\":[{\"line\":{\"colorbar\":{\"outlinewidth\":0,\"ticks\":\"\"}},\"marker\":{\"colorbar\":{\"outlinewidth\":0,\"ticks\":\"\"}},\"type\":\"scatter3d\"}],\"scattercarpet\":[{\"marker\":{\"colorbar\":{\"outlinewidth\":0,\"ticks\":\"\"}},\"type\":\"scattercarpet\"}],\"scattergeo\":[{\"marker\":{\"colorbar\":{\"outlinewidth\":0,\"ticks\":\"\"}},\"type\":\"scattergeo\"}],\"scattergl\":[{\"marker\":{\"colorbar\":{\"outlinewidth\":0,\"ticks\":\"\"}},\"type\":\"scattergl\"}],\"scattermapbox\":[{\"marker\":{\"colorbar\":{\"outlinewidth\":0,\"ticks\":\"\"}},\"type\":\"scattermapbox\"}],\"scatterpolar\":[{\"marker\":{\"colorbar\":{\"outlinewidth\":0,\"ticks\":\"\"}},\"type\":\"scatterpolar\"}],\"scatterpolargl\":[{\"marker\":{\"colorbar\":{\"outlinewidth\":0,\"ticks\":\"\"}},\"type\":\"scatterpolargl\"}],\"scatterternary\":[{\"marker\":{\"colorbar\":{\"outlinewidth\":0,\"ticks\":\"\"}},\"type\":\"scatterternary\"}],\"surface\":[{\"colorbar\":{\"outlinewidth\":0,\"ticks\":\"\"},\"colorscale\":[[0.0,\"#0d0887\"],[0.1111111111111111,\"#46039f\"],[0.2222222222222222,\"#7201a8\"],[0.3333333333333333,\"#9c179e\"],[0.4444444444444444,\"#bd3786\"],[0.5555555555555556,\"#d8576b\"],[0.6666666666666666,\"#ed7953\"],[0.7777777777777778,\"#fb9f3a\"],[0.8888888888888888,\"#fdca26\"],[1.0,\"#f0f921\"]],\"type\":\"surface\"}],\"table\":[{\"cells\":{\"fill\":{\"color\":\"#EBF0F8\"},\"line\":{\"color\":\"white\"}},\"header\":{\"fill\":{\"color\":\"#C8D4E3\"},\"line\":{\"color\":\"white\"}},\"type\":\"table\"}]},\"layout\":{\"annotationdefaults\":{\"arrowcolor\":\"#2a3f5f\",\"arrowhead\":0,\"arrowwidth\":1},\"autotypenumbers\":\"strict\",\"coloraxis\":{\"colorbar\":{\"outlinewidth\":0,\"ticks\":\"\"}},\"colorscale\":{\"diverging\":[[0,\"#8e0152\"],[0.1,\"#c51b7d\"],[0.2,\"#de77ae\"],[0.3,\"#f1b6da\"],[0.4,\"#fde0ef\"],[0.5,\"#f7f7f7\"],[0.6,\"#e6f5d0\"],[0.7,\"#b8e186\"],[0.8,\"#7fbc41\"],[0.9,\"#4d9221\"],[1,\"#276419\"]],\"sequential\":[[0.0,\"#0d0887\"],[0.1111111111111111,\"#46039f\"],[0.2222222222222222,\"#7201a8\"],[0.3333333333333333,\"#9c179e\"],[0.4444444444444444,\"#bd3786\"],[0.5555555555555556,\"#d8576b\"],[0.6666666666666666,\"#ed7953\"],[0.7777777777777778,\"#fb9f3a\"],[0.8888888888888888,\"#fdca26\"],[1.0,\"#f0f921\"]],\"sequentialminus\":[[0.0,\"#0d0887\"],[0.1111111111111111,\"#46039f\"],[0.2222222222222222,\"#7201a8\"],[0.3333333333333333,\"#9c179e\"],[0.4444444444444444,\"#bd3786\"],[0.5555555555555556,\"#d8576b\"],[0.6666666666666666,\"#ed7953\"],[0.7777777777777778,\"#fb9f3a\"],[0.8888888888888888,\"#fdca26\"],[1.0,\"#f0f921\"]]},\"colorway\":[\"#636efa\",\"#EF553B\",\"#00cc96\",\"#ab63fa\",\"#FFA15A\",\"#19d3f3\",\"#FF6692\",\"#B6E880\",\"#FF97FF\",\"#FECB52\"],\"font\":{\"color\":\"#2a3f5f\"},\"geo\":{\"bgcolor\":\"white\",\"lakecolor\":\"white\",\"landcolor\":\"#E5ECF6\",\"showlakes\":true,\"showland\":true,\"subunitcolor\":\"white\"},\"hoverlabel\":{\"align\":\"left\"},\"hovermode\":\"closest\",\"mapbox\":{\"style\":\"light\"},\"paper_bgcolor\":\"white\",\"plot_bgcolor\":\"#E5ECF6\",\"polar\":{\"angularaxis\":{\"gridcolor\":\"white\",\"linecolor\":\"white\",\"ticks\":\"\"},\"bgcolor\":\"#E5ECF6\",\"radialaxis\":{\"gridcolor\":\"white\",\"linecolor\":\"white\",\"ticks\":\"\"}},\"scene\":{\"xaxis\":{\"backgroundcolor\":\"#E5ECF6\",\"gridcolor\":\"white\",\"gridwidth\":2,\"linecolor\":\"white\",\"showbackground\":true,\"ticks\":\"\",\"zerolinecolor\":\"white\"},\"yaxis\":{\"backgroundcolor\":\"#E5ECF6\",\"gridcolor\":\"white\",\"gridwidth\":2,\"linecolor\":\"white\",\"showbackground\":true,\"ticks\":\"\",\"zerolinecolor\":\"white\"},\"zaxis\":{\"backgroundcolor\":\"#E5ECF6\",\"gridcolor\":\"white\",\"gridwidth\":2,\"linecolor\":\"white\",\"showbackground\":true,\"ticks\":\"\",\"zerolinecolor\":\"white\"}},\"shapedefaults\":{\"line\":{\"color\":\"#2a3f5f\"}},\"ternary\":{\"aaxis\":{\"gridcolor\":\"white\",\"linecolor\":\"white\",\"ticks\":\"\"},\"baxis\":{\"gridcolor\":\"white\",\"linecolor\":\"white\",\"ticks\":\"\"},\"bgcolor\":\"#E5ECF6\",\"caxis\":{\"gridcolor\":\"white\",\"linecolor\":\"white\",\"ticks\":\"\"}},\"title\":{\"x\":0.05},\"xaxis\":{\"automargin\":true,\"gridcolor\":\"white\",\"linecolor\":\"white\",\"ticks\":\"\",\"title\":{\"standoff\":15},\"zerolinecolor\":\"white\",\"zerolinewidth\":2},\"yaxis\":{\"automargin\":true,\"gridcolor\":\"white\",\"linecolor\":\"white\",\"ticks\":\"\",\"title\":{\"standoff\":15},\"zerolinecolor\":\"white\",\"zerolinewidth\":2}}},\"xaxis\":{\"anchor\":\"y\",\"domain\":[0.0,0.94],\"title\":{\"text\":\"Restaurants\"}},\"yaxis\":{\"anchor\":\"x\",\"domain\":[0.0,1.0],\"title\":{\"text\":\"Rating\"}},\"yaxis2\":{\"anchor\":\"x\",\"overlaying\":\"y\",\"side\":\"right\",\"title\":{\"text\":\"Number of Review\"}}},                        {\"responsive\": true}                    ).then(function(){\n",
       "                            \n",
       "var gd = document.getElementById('b9dd3d01-9a27-4f0d-938d-4baf3c23fc50');\n",
       "var x = new MutationObserver(function (mutations, observer) {{\n",
       "        var display = window.getComputedStyle(gd).display;\n",
       "        if (!display || display === 'none') {{\n",
       "            console.log([gd, 'removed!']);\n",
       "            Plotly.purge(gd);\n",
       "            observer.disconnect();\n",
       "        }}\n",
       "}});\n",
       "\n",
       "// Listen for the removal of the full notebook cells\n",
       "var notebookContainer = gd.closest('#notebook-container');\n",
       "if (notebookContainer) {{\n",
       "    x.observe(notebookContainer, {childList: true});\n",
       "}}\n",
       "\n",
       "// Listen for the clearing of the current output cell\n",
       "var outputEl = gd.closest('.output');\n",
       "if (outputEl) {{\n",
       "    x.observe(outputEl, {childList: true});\n",
       "}}\n",
       "\n",
       "                        })                };                });            </script>        </div>"
      ],
      "application/vnd.plotly.v1+json": {
       "config": {
        "plotlyServerURL": "https://plot.ly"
       },
       "data": [
        {
         "alignmentgroup": "True",
         "hovertemplate": "Name=%{x}<br>Rating=%{marker.color}<extra></extra>",
         "legendgroup": "",
         "marker": {
          "color": [
           4.630000114440918,
           4.550000190734863,
           4.510000228881836,
           4.489999771118164,
           4.449999809265137,
           4.429999828338623,
           4.380000114440918,
           4.320000171661377,
           4.309999942779541,
           4.25
          ],
          "coloraxis": "coloraxis",
          "pattern": {
           "shape": ""
          }
         },
         "name": "",
         "offsetgroup": "",
         "orientation": "v",
         "showlegend": false,
         "textposition": "auto",
         "type": "bar",
         "x": [
          "Sugita",
          "Sushinamba",
          "Mitani",
          "Sawada",
          "Kimura",
          "Takamitsu",
          "Hatsunezushi",
          "Sushi Sho",
          "sushishunsuke",
          "Sushifujinaga"
         ],
         "xaxis": "x",
         "y": [
          4.630000114440918,
          4.550000190734863,
          4.510000228881836,
          4.489999771118164,
          4.449999809265137,
          4.429999828338623,
          4.380000114440918,
          4.320000171661377,
          4.309999942779541,
          4.25
         ],
         "yaxis": "y"
        },
        {
         "alignmentgroup": "True",
         "hovertemplate": "Name=%{x}<br>Reviews=%{y}<extra></extra>",
         "legendgroup": "",
         "marker": {
          "color": "#636efa",
          "pattern": {
           "shape": ""
          }
         },
         "name": "",
         "offsetgroup": "",
         "orientation": "v",
         "showlegend": false,
         "textposition": "auto",
         "type": "bar",
         "x": [
          "Sugita",
          "Sushinamba",
          "Mitani",
          "Sawada",
          "Kimura",
          "Takamitsu",
          "Hatsunezushi",
          "Sushi Sho",
          "sushishunsuke",
          "Sushifujinaga"
         ],
         "xaxis": "x",
         "y": [
          "365",
          "269",
          "199",
          "257",
          "252",
          "233",
          "343",
          "539",
          "236",
          "100"
         ],
         "yaxis": "y2"
        }
       ],
       "layout": {
        "template": {
         "data": {
          "bar": [
           {
            "error_x": {
             "color": "#2a3f5f"
            },
            "error_y": {
             "color": "#2a3f5f"
            },
            "marker": {
             "line": {
              "color": "#E5ECF6",
              "width": 0.5
             },
             "pattern": {
              "fillmode": "overlay",
              "size": 10,
              "solidity": 0.2
             }
            },
            "type": "bar"
           }
          ],
          "barpolar": [
           {
            "marker": {
             "line": {
              "color": "#E5ECF6",
              "width": 0.5
             },
             "pattern": {
              "fillmode": "overlay",
              "size": 10,
              "solidity": 0.2
             }
            },
            "type": "barpolar"
           }
          ],
          "carpet": [
           {
            "aaxis": {
             "endlinecolor": "#2a3f5f",
             "gridcolor": "white",
             "linecolor": "white",
             "minorgridcolor": "white",
             "startlinecolor": "#2a3f5f"
            },
            "baxis": {
             "endlinecolor": "#2a3f5f",
             "gridcolor": "white",
             "linecolor": "white",
             "minorgridcolor": "white",
             "startlinecolor": "#2a3f5f"
            },
            "type": "carpet"
           }
          ],
          "choropleth": [
           {
            "colorbar": {
             "outlinewidth": 0,
             "ticks": ""
            },
            "type": "choropleth"
           }
          ],
          "contour": [
           {
            "colorbar": {
             "outlinewidth": 0,
             "ticks": ""
            },
            "colorscale": [
             [
              0,
              "#0d0887"
             ],
             [
              0.1111111111111111,
              "#46039f"
             ],
             [
              0.2222222222222222,
              "#7201a8"
             ],
             [
              0.3333333333333333,
              "#9c179e"
             ],
             [
              0.4444444444444444,
              "#bd3786"
             ],
             [
              0.5555555555555556,
              "#d8576b"
             ],
             [
              0.6666666666666666,
              "#ed7953"
             ],
             [
              0.7777777777777778,
              "#fb9f3a"
             ],
             [
              0.8888888888888888,
              "#fdca26"
             ],
             [
              1,
              "#f0f921"
             ]
            ],
            "type": "contour"
           }
          ],
          "contourcarpet": [
           {
            "colorbar": {
             "outlinewidth": 0,
             "ticks": ""
            },
            "type": "contourcarpet"
           }
          ],
          "heatmap": [
           {
            "colorbar": {
             "outlinewidth": 0,
             "ticks": ""
            },
            "colorscale": [
             [
              0,
              "#0d0887"
             ],
             [
              0.1111111111111111,
              "#46039f"
             ],
             [
              0.2222222222222222,
              "#7201a8"
             ],
             [
              0.3333333333333333,
              "#9c179e"
             ],
             [
              0.4444444444444444,
              "#bd3786"
             ],
             [
              0.5555555555555556,
              "#d8576b"
             ],
             [
              0.6666666666666666,
              "#ed7953"
             ],
             [
              0.7777777777777778,
              "#fb9f3a"
             ],
             [
              0.8888888888888888,
              "#fdca26"
             ],
             [
              1,
              "#f0f921"
             ]
            ],
            "type": "heatmap"
           }
          ],
          "heatmapgl": [
           {
            "colorbar": {
             "outlinewidth": 0,
             "ticks": ""
            },
            "colorscale": [
             [
              0,
              "#0d0887"
             ],
             [
              0.1111111111111111,
              "#46039f"
             ],
             [
              0.2222222222222222,
              "#7201a8"
             ],
             [
              0.3333333333333333,
              "#9c179e"
             ],
             [
              0.4444444444444444,
              "#bd3786"
             ],
             [
              0.5555555555555556,
              "#d8576b"
             ],
             [
              0.6666666666666666,
              "#ed7953"
             ],
             [
              0.7777777777777778,
              "#fb9f3a"
             ],
             [
              0.8888888888888888,
              "#fdca26"
             ],
             [
              1,
              "#f0f921"
             ]
            ],
            "type": "heatmapgl"
           }
          ],
          "histogram": [
           {
            "marker": {
             "pattern": {
              "fillmode": "overlay",
              "size": 10,
              "solidity": 0.2
             }
            },
            "type": "histogram"
           }
          ],
          "histogram2d": [
           {
            "colorbar": {
             "outlinewidth": 0,
             "ticks": ""
            },
            "colorscale": [
             [
              0,
              "#0d0887"
             ],
             [
              0.1111111111111111,
              "#46039f"
             ],
             [
              0.2222222222222222,
              "#7201a8"
             ],
             [
              0.3333333333333333,
              "#9c179e"
             ],
             [
              0.4444444444444444,
              "#bd3786"
             ],
             [
              0.5555555555555556,
              "#d8576b"
             ],
             [
              0.6666666666666666,
              "#ed7953"
             ],
             [
              0.7777777777777778,
              "#fb9f3a"
             ],
             [
              0.8888888888888888,
              "#fdca26"
             ],
             [
              1,
              "#f0f921"
             ]
            ],
            "type": "histogram2d"
           }
          ],
          "histogram2dcontour": [
           {
            "colorbar": {
             "outlinewidth": 0,
             "ticks": ""
            },
            "colorscale": [
             [
              0,
              "#0d0887"
             ],
             [
              0.1111111111111111,
              "#46039f"
             ],
             [
              0.2222222222222222,
              "#7201a8"
             ],
             [
              0.3333333333333333,
              "#9c179e"
             ],
             [
              0.4444444444444444,
              "#bd3786"
             ],
             [
              0.5555555555555556,
              "#d8576b"
             ],
             [
              0.6666666666666666,
              "#ed7953"
             ],
             [
              0.7777777777777778,
              "#fb9f3a"
             ],
             [
              0.8888888888888888,
              "#fdca26"
             ],
             [
              1,
              "#f0f921"
             ]
            ],
            "type": "histogram2dcontour"
           }
          ],
          "mesh3d": [
           {
            "colorbar": {
             "outlinewidth": 0,
             "ticks": ""
            },
            "type": "mesh3d"
           }
          ],
          "parcoords": [
           {
            "line": {
             "colorbar": {
              "outlinewidth": 0,
              "ticks": ""
             }
            },
            "type": "parcoords"
           }
          ],
          "pie": [
           {
            "automargin": true,
            "type": "pie"
           }
          ],
          "scatter": [
           {
            "marker": {
             "colorbar": {
              "outlinewidth": 0,
              "ticks": ""
             }
            },
            "type": "scatter"
           }
          ],
          "scatter3d": [
           {
            "line": {
             "colorbar": {
              "outlinewidth": 0,
              "ticks": ""
             }
            },
            "marker": {
             "colorbar": {
              "outlinewidth": 0,
              "ticks": ""
             }
            },
            "type": "scatter3d"
           }
          ],
          "scattercarpet": [
           {
            "marker": {
             "colorbar": {
              "outlinewidth": 0,
              "ticks": ""
             }
            },
            "type": "scattercarpet"
           }
          ],
          "scattergeo": [
           {
            "marker": {
             "colorbar": {
              "outlinewidth": 0,
              "ticks": ""
             }
            },
            "type": "scattergeo"
           }
          ],
          "scattergl": [
           {
            "marker": {
             "colorbar": {
              "outlinewidth": 0,
              "ticks": ""
             }
            },
            "type": "scattergl"
           }
          ],
          "scattermapbox": [
           {
            "marker": {
             "colorbar": {
              "outlinewidth": 0,
              "ticks": ""
             }
            },
            "type": "scattermapbox"
           }
          ],
          "scatterpolar": [
           {
            "marker": {
             "colorbar": {
              "outlinewidth": 0,
              "ticks": ""
             }
            },
            "type": "scatterpolar"
           }
          ],
          "scatterpolargl": [
           {
            "marker": {
             "colorbar": {
              "outlinewidth": 0,
              "ticks": ""
             }
            },
            "type": "scatterpolargl"
           }
          ],
          "scatterternary": [
           {
            "marker": {
             "colorbar": {
              "outlinewidth": 0,
              "ticks": ""
             }
            },
            "type": "scatterternary"
           }
          ],
          "surface": [
           {
            "colorbar": {
             "outlinewidth": 0,
             "ticks": ""
            },
            "colorscale": [
             [
              0,
              "#0d0887"
             ],
             [
              0.1111111111111111,
              "#46039f"
             ],
             [
              0.2222222222222222,
              "#7201a8"
             ],
             [
              0.3333333333333333,
              "#9c179e"
             ],
             [
              0.4444444444444444,
              "#bd3786"
             ],
             [
              0.5555555555555556,
              "#d8576b"
             ],
             [
              0.6666666666666666,
              "#ed7953"
             ],
             [
              0.7777777777777778,
              "#fb9f3a"
             ],
             [
              0.8888888888888888,
              "#fdca26"
             ],
             [
              1,
              "#f0f921"
             ]
            ],
            "type": "surface"
           }
          ],
          "table": [
           {
            "cells": {
             "fill": {
              "color": "#EBF0F8"
             },
             "line": {
              "color": "white"
             }
            },
            "header": {
             "fill": {
              "color": "#C8D4E3"
             },
             "line": {
              "color": "white"
             }
            },
            "type": "table"
           }
          ]
         },
         "layout": {
          "annotationdefaults": {
           "arrowcolor": "#2a3f5f",
           "arrowhead": 0,
           "arrowwidth": 1
          },
          "autotypenumbers": "strict",
          "coloraxis": {
           "colorbar": {
            "outlinewidth": 0,
            "ticks": ""
           }
          },
          "colorscale": {
           "diverging": [
            [
             0,
             "#8e0152"
            ],
            [
             0.1,
             "#c51b7d"
            ],
            [
             0.2,
             "#de77ae"
            ],
            [
             0.3,
             "#f1b6da"
            ],
            [
             0.4,
             "#fde0ef"
            ],
            [
             0.5,
             "#f7f7f7"
            ],
            [
             0.6,
             "#e6f5d0"
            ],
            [
             0.7,
             "#b8e186"
            ],
            [
             0.8,
             "#7fbc41"
            ],
            [
             0.9,
             "#4d9221"
            ],
            [
             1,
             "#276419"
            ]
           ],
           "sequential": [
            [
             0,
             "#0d0887"
            ],
            [
             0.1111111111111111,
             "#46039f"
            ],
            [
             0.2222222222222222,
             "#7201a8"
            ],
            [
             0.3333333333333333,
             "#9c179e"
            ],
            [
             0.4444444444444444,
             "#bd3786"
            ],
            [
             0.5555555555555556,
             "#d8576b"
            ],
            [
             0.6666666666666666,
             "#ed7953"
            ],
            [
             0.7777777777777778,
             "#fb9f3a"
            ],
            [
             0.8888888888888888,
             "#fdca26"
            ],
            [
             1,
             "#f0f921"
            ]
           ],
           "sequentialminus": [
            [
             0,
             "#0d0887"
            ],
            [
             0.1111111111111111,
             "#46039f"
            ],
            [
             0.2222222222222222,
             "#7201a8"
            ],
            [
             0.3333333333333333,
             "#9c179e"
            ],
            [
             0.4444444444444444,
             "#bd3786"
            ],
            [
             0.5555555555555556,
             "#d8576b"
            ],
            [
             0.6666666666666666,
             "#ed7953"
            ],
            [
             0.7777777777777778,
             "#fb9f3a"
            ],
            [
             0.8888888888888888,
             "#fdca26"
            ],
            [
             1,
             "#f0f921"
            ]
           ]
          },
          "colorway": [
           "#636efa",
           "#EF553B",
           "#00cc96",
           "#ab63fa",
           "#FFA15A",
           "#19d3f3",
           "#FF6692",
           "#B6E880",
           "#FF97FF",
           "#FECB52"
          ],
          "font": {
           "color": "#2a3f5f"
          },
          "geo": {
           "bgcolor": "white",
           "lakecolor": "white",
           "landcolor": "#E5ECF6",
           "showlakes": true,
           "showland": true,
           "subunitcolor": "white"
          },
          "hoverlabel": {
           "align": "left"
          },
          "hovermode": "closest",
          "mapbox": {
           "style": "light"
          },
          "paper_bgcolor": "white",
          "plot_bgcolor": "#E5ECF6",
          "polar": {
           "angularaxis": {
            "gridcolor": "white",
            "linecolor": "white",
            "ticks": ""
           },
           "bgcolor": "#E5ECF6",
           "radialaxis": {
            "gridcolor": "white",
            "linecolor": "white",
            "ticks": ""
           }
          },
          "scene": {
           "xaxis": {
            "backgroundcolor": "#E5ECF6",
            "gridcolor": "white",
            "gridwidth": 2,
            "linecolor": "white",
            "showbackground": true,
            "ticks": "",
            "zerolinecolor": "white"
           },
           "yaxis": {
            "backgroundcolor": "#E5ECF6",
            "gridcolor": "white",
            "gridwidth": 2,
            "linecolor": "white",
            "showbackground": true,
            "ticks": "",
            "zerolinecolor": "white"
           },
           "zaxis": {
            "backgroundcolor": "#E5ECF6",
            "gridcolor": "white",
            "gridwidth": 2,
            "linecolor": "white",
            "showbackground": true,
            "ticks": "",
            "zerolinecolor": "white"
           }
          },
          "shapedefaults": {
           "line": {
            "color": "#2a3f5f"
           }
          },
          "ternary": {
           "aaxis": {
            "gridcolor": "white",
            "linecolor": "white",
            "ticks": ""
           },
           "baxis": {
            "gridcolor": "white",
            "linecolor": "white",
            "ticks": ""
           },
           "bgcolor": "#E5ECF6",
           "caxis": {
            "gridcolor": "white",
            "linecolor": "white",
            "ticks": ""
           }
          },
          "title": {
           "x": 0.05
          },
          "xaxis": {
           "automargin": true,
           "gridcolor": "white",
           "linecolor": "white",
           "ticks": "",
           "title": {
            "standoff": 15
           },
           "zerolinecolor": "white",
           "zerolinewidth": 2
          },
          "yaxis": {
           "automargin": true,
           "gridcolor": "white",
           "linecolor": "white",
           "ticks": "",
           "title": {
            "standoff": 15
           },
           "zerolinecolor": "white",
           "zerolinewidth": 2
          }
         }
        },
        "xaxis": {
         "anchor": "y",
         "domain": [
          0,
          0.94
         ],
         "title": {
          "text": "Restaurants"
         }
        },
        "yaxis": {
         "anchor": "x",
         "domain": [
          0,
          1
         ],
         "title": {
          "text": "Rating"
         }
        },
        "yaxis2": {
         "anchor": "x",
         "overlaying": "y",
         "side": "right",
         "title": {
          "text": "Number of Review"
         }
        }
       }
      }
     },
     "metadata": {}
    }
   ],
   "metadata": {}
  },
  {
   "cell_type": "code",
   "execution_count": 146,
   "source": [
    "top10_review = df_restaurant[['Name', 'Address', 'Rating', 'Reviews']].nlargest(10,'Reviews').sort_values(by = 'Reviews',ascending=False)\n",
    "top10_review['Review_in_avg']  = df_restaurant['Reviews'].mean()\n",
    "top10_review"
   ],
   "outputs": [
    {
     "output_type": "execute_result",
     "data": {
      "text/plain": [
       "                                Name  \\\n",
       "367                      Sushizammai   \n",
       "1122                       Sushi Sho   \n",
       "1063                 Tsukijisushidai   \n",
       "159                    akasakakintan   \n",
       "1036                      Sakaezushi   \n",
       "773   Umegaokasushinomidorisouhonten   \n",
       "812                           Sugita   \n",
       "857   Umegaokasushinomidorisouhonten   \n",
       "1178          sushinomidorisouhonten   \n",
       "1002                         Shimizu   \n",
       "\n",
       "                                                Address  Rating  Reviews  \\\n",
       "367             4-chome-11-9 Tsukiji Chuo City Tokyo-to    3.52      559   \n",
       "1122                        Yotsuya Shinjuku City Tokyo    4.32      539   \n",
       "1063            6-chome-21-2 Tsukiji Chuo City Tokyo-to    3.76      472   \n",
       "159           3-chome-11-7 Akasaka Minato City Tokyo-to    3.74      430   \n",
       "1036     1-chome-18-5 Tateishi Katsushika City Tokyo-to    3.75      414   \n",
       "773                     7 Chome-2 Ginza Chuo City Tokyo    3.55      371   \n",
       "812   1-chome-33-6 Nihonbashikakigaracho Chuo City T...    4.63      365   \n",
       "857        1-chome-12-3 Dogenzaka Shibuya City Tokyo-to    3.49      352   \n",
       "1178         1 Chome-20-7 Umegaoka Setagaya-ku Tokyo-to    3.53      345   \n",
       "1002       2-chome-15-10 Shinbashi Minato City Tokyo-to    4.10      343   \n",
       "\n",
       "      Review_in_avg  \n",
       "367       44.850847  \n",
       "1122      44.850847  \n",
       "1063      44.850847  \n",
       "159       44.850847  \n",
       "1036      44.850847  \n",
       "773       44.850847  \n",
       "812       44.850847  \n",
       "857       44.850847  \n",
       "1178      44.850847  \n",
       "1002      44.850847  "
      ],
      "text/html": [
       "<div>\n",
       "<style scoped>\n",
       "    .dataframe tbody tr th:only-of-type {\n",
       "        vertical-align: middle;\n",
       "    }\n",
       "\n",
       "    .dataframe tbody tr th {\n",
       "        vertical-align: top;\n",
       "    }\n",
       "\n",
       "    .dataframe thead th {\n",
       "        text-align: right;\n",
       "    }\n",
       "</style>\n",
       "<table border=\"1\" class=\"dataframe\">\n",
       "  <thead>\n",
       "    <tr style=\"text-align: right;\">\n",
       "      <th></th>\n",
       "      <th>Name</th>\n",
       "      <th>Address</th>\n",
       "      <th>Rating</th>\n",
       "      <th>Reviews</th>\n",
       "      <th>Review_in_avg</th>\n",
       "    </tr>\n",
       "  </thead>\n",
       "  <tbody>\n",
       "    <tr>\n",
       "      <th>367</th>\n",
       "      <td>Sushizammai</td>\n",
       "      <td>4-chome-11-9 Tsukiji Chuo City Tokyo-to</td>\n",
       "      <td>3.52</td>\n",
       "      <td>559</td>\n",
       "      <td>44.850847</td>\n",
       "    </tr>\n",
       "    <tr>\n",
       "      <th>1122</th>\n",
       "      <td>Sushi Sho</td>\n",
       "      <td>Yotsuya Shinjuku City Tokyo</td>\n",
       "      <td>4.32</td>\n",
       "      <td>539</td>\n",
       "      <td>44.850847</td>\n",
       "    </tr>\n",
       "    <tr>\n",
       "      <th>1063</th>\n",
       "      <td>Tsukijisushidai</td>\n",
       "      <td>6-chome-21-2 Tsukiji Chuo City Tokyo-to</td>\n",
       "      <td>3.76</td>\n",
       "      <td>472</td>\n",
       "      <td>44.850847</td>\n",
       "    </tr>\n",
       "    <tr>\n",
       "      <th>159</th>\n",
       "      <td>akasakakintan</td>\n",
       "      <td>3-chome-11-7 Akasaka Minato City Tokyo-to</td>\n",
       "      <td>3.74</td>\n",
       "      <td>430</td>\n",
       "      <td>44.850847</td>\n",
       "    </tr>\n",
       "    <tr>\n",
       "      <th>1036</th>\n",
       "      <td>Sakaezushi</td>\n",
       "      <td>1-chome-18-5 Tateishi Katsushika City Tokyo-to</td>\n",
       "      <td>3.75</td>\n",
       "      <td>414</td>\n",
       "      <td>44.850847</td>\n",
       "    </tr>\n",
       "    <tr>\n",
       "      <th>773</th>\n",
       "      <td>Umegaokasushinomidorisouhonten</td>\n",
       "      <td>7 Chome-2 Ginza Chuo City Tokyo</td>\n",
       "      <td>3.55</td>\n",
       "      <td>371</td>\n",
       "      <td>44.850847</td>\n",
       "    </tr>\n",
       "    <tr>\n",
       "      <th>812</th>\n",
       "      <td>Sugita</td>\n",
       "      <td>1-chome-33-6 Nihonbashikakigaracho Chuo City T...</td>\n",
       "      <td>4.63</td>\n",
       "      <td>365</td>\n",
       "      <td>44.850847</td>\n",
       "    </tr>\n",
       "    <tr>\n",
       "      <th>857</th>\n",
       "      <td>Umegaokasushinomidorisouhonten</td>\n",
       "      <td>1-chome-12-3 Dogenzaka Shibuya City Tokyo-to</td>\n",
       "      <td>3.49</td>\n",
       "      <td>352</td>\n",
       "      <td>44.850847</td>\n",
       "    </tr>\n",
       "    <tr>\n",
       "      <th>1178</th>\n",
       "      <td>sushinomidorisouhonten</td>\n",
       "      <td>1 Chome-20-7 Umegaoka Setagaya-ku Tokyo-to</td>\n",
       "      <td>3.53</td>\n",
       "      <td>345</td>\n",
       "      <td>44.850847</td>\n",
       "    </tr>\n",
       "    <tr>\n",
       "      <th>1002</th>\n",
       "      <td>Shimizu</td>\n",
       "      <td>2-chome-15-10 Shinbashi Minato City Tokyo-to</td>\n",
       "      <td>4.10</td>\n",
       "      <td>343</td>\n",
       "      <td>44.850847</td>\n",
       "    </tr>\n",
       "  </tbody>\n",
       "</table>\n",
       "</div>"
      ]
     },
     "metadata": {},
     "execution_count": 146
    }
   ],
   "metadata": {}
  },
  {
   "cell_type": "code",
   "execution_count": 188,
   "source": [
    "px.bar(top10_review, x = 'Name', y= ['Reviews', 'Review_in_avg'],barmode='group')"
   ],
   "outputs": [
    {
     "output_type": "display_data",
     "data": {
      "text/html": [
       "<div>                            <div id=\"835883b7-4743-4b1c-80dc-aa0d0e44addd\" class=\"plotly-graph-div\" style=\"height:525px; width:100%;\"></div>            <script type=\"text/javascript\">                require([\"plotly\"], function(Plotly) {                    window.PLOTLYENV=window.PLOTLYENV || {};                                    if (document.getElementById(\"835883b7-4743-4b1c-80dc-aa0d0e44addd\")) {                    Plotly.newPlot(                        \"835883b7-4743-4b1c-80dc-aa0d0e44addd\",                        [{\"alignmentgroup\":\"True\",\"hovertemplate\":\"variable=Reviews<br>Name=%{x}<br>value=%{y}<extra></extra>\",\"legendgroup\":\"Reviews\",\"marker\":{\"color\":\"#636efa\",\"pattern\":{\"shape\":\"\"}},\"name\":\"Reviews\",\"offsetgroup\":\"Reviews\",\"orientation\":\"v\",\"showlegend\":true,\"textposition\":\"auto\",\"type\":\"bar\",\"x\":[\"Sushizammai\",\"Sushi Sho\",\"Tsukijisushidai\",\"akasakakintan\",\"Sakaezushi\",\"Umegaokasushinomidorisouhonten\",\"Sugita\",\"Umegaokasushinomidorisouhonten\",\"sushinomidorisouhonten\",\"Shimizu\"],\"xaxis\":\"x\",\"y\":[559.0,539.0,472.0,430.0,414.0,371.0,365.0,352.0,345.0,343.0],\"yaxis\":\"y\"},{\"alignmentgroup\":\"True\",\"hovertemplate\":\"variable=Review_in_avg<br>Name=%{x}<br>value=%{y}<extra></extra>\",\"legendgroup\":\"Review_in_avg\",\"marker\":{\"color\":\"#EF553B\",\"pattern\":{\"shape\":\"\"}},\"name\":\"Review_in_avg\",\"offsetgroup\":\"Review_in_avg\",\"orientation\":\"v\",\"showlegend\":true,\"textposition\":\"auto\",\"type\":\"bar\",\"x\":[\"Sushizammai\",\"Sushi Sho\",\"Tsukijisushidai\",\"akasakakintan\",\"Sakaezushi\",\"Umegaokasushinomidorisouhonten\",\"Sugita\",\"Umegaokasushinomidorisouhonten\",\"sushinomidorisouhonten\",\"Shimizu\"],\"xaxis\":\"x\",\"y\":[44.85084745762712,44.85084745762712,44.85084745762712,44.85084745762712,44.85084745762712,44.85084745762712,44.85084745762712,44.85084745762712,44.85084745762712,44.85084745762712],\"yaxis\":\"y\"}],                        {\"barmode\":\"group\",\"legend\":{\"title\":{\"text\":\"variable\"},\"tracegroupgap\":0},\"margin\":{\"t\":60},\"template\":{\"data\":{\"bar\":[{\"error_x\":{\"color\":\"#2a3f5f\"},\"error_y\":{\"color\":\"#2a3f5f\"},\"marker\":{\"line\":{\"color\":\"#E5ECF6\",\"width\":0.5},\"pattern\":{\"fillmode\":\"overlay\",\"size\":10,\"solidity\":0.2}},\"type\":\"bar\"}],\"barpolar\":[{\"marker\":{\"line\":{\"color\":\"#E5ECF6\",\"width\":0.5},\"pattern\":{\"fillmode\":\"overlay\",\"size\":10,\"solidity\":0.2}},\"type\":\"barpolar\"}],\"carpet\":[{\"aaxis\":{\"endlinecolor\":\"#2a3f5f\",\"gridcolor\":\"white\",\"linecolor\":\"white\",\"minorgridcolor\":\"white\",\"startlinecolor\":\"#2a3f5f\"},\"baxis\":{\"endlinecolor\":\"#2a3f5f\",\"gridcolor\":\"white\",\"linecolor\":\"white\",\"minorgridcolor\":\"white\",\"startlinecolor\":\"#2a3f5f\"},\"type\":\"carpet\"}],\"choropleth\":[{\"colorbar\":{\"outlinewidth\":0,\"ticks\":\"\"},\"type\":\"choropleth\"}],\"contour\":[{\"colorbar\":{\"outlinewidth\":0,\"ticks\":\"\"},\"colorscale\":[[0.0,\"#0d0887\"],[0.1111111111111111,\"#46039f\"],[0.2222222222222222,\"#7201a8\"],[0.3333333333333333,\"#9c179e\"],[0.4444444444444444,\"#bd3786\"],[0.5555555555555556,\"#d8576b\"],[0.6666666666666666,\"#ed7953\"],[0.7777777777777778,\"#fb9f3a\"],[0.8888888888888888,\"#fdca26\"],[1.0,\"#f0f921\"]],\"type\":\"contour\"}],\"contourcarpet\":[{\"colorbar\":{\"outlinewidth\":0,\"ticks\":\"\"},\"type\":\"contourcarpet\"}],\"heatmap\":[{\"colorbar\":{\"outlinewidth\":0,\"ticks\":\"\"},\"colorscale\":[[0.0,\"#0d0887\"],[0.1111111111111111,\"#46039f\"],[0.2222222222222222,\"#7201a8\"],[0.3333333333333333,\"#9c179e\"],[0.4444444444444444,\"#bd3786\"],[0.5555555555555556,\"#d8576b\"],[0.6666666666666666,\"#ed7953\"],[0.7777777777777778,\"#fb9f3a\"],[0.8888888888888888,\"#fdca26\"],[1.0,\"#f0f921\"]],\"type\":\"heatmap\"}],\"heatmapgl\":[{\"colorbar\":{\"outlinewidth\":0,\"ticks\":\"\"},\"colorscale\":[[0.0,\"#0d0887\"],[0.1111111111111111,\"#46039f\"],[0.2222222222222222,\"#7201a8\"],[0.3333333333333333,\"#9c179e\"],[0.4444444444444444,\"#bd3786\"],[0.5555555555555556,\"#d8576b\"],[0.6666666666666666,\"#ed7953\"],[0.7777777777777778,\"#fb9f3a\"],[0.8888888888888888,\"#fdca26\"],[1.0,\"#f0f921\"]],\"type\":\"heatmapgl\"}],\"histogram\":[{\"marker\":{\"pattern\":{\"fillmode\":\"overlay\",\"size\":10,\"solidity\":0.2}},\"type\":\"histogram\"}],\"histogram2d\":[{\"colorbar\":{\"outlinewidth\":0,\"ticks\":\"\"},\"colorscale\":[[0.0,\"#0d0887\"],[0.1111111111111111,\"#46039f\"],[0.2222222222222222,\"#7201a8\"],[0.3333333333333333,\"#9c179e\"],[0.4444444444444444,\"#bd3786\"],[0.5555555555555556,\"#d8576b\"],[0.6666666666666666,\"#ed7953\"],[0.7777777777777778,\"#fb9f3a\"],[0.8888888888888888,\"#fdca26\"],[1.0,\"#f0f921\"]],\"type\":\"histogram2d\"}],\"histogram2dcontour\":[{\"colorbar\":{\"outlinewidth\":0,\"ticks\":\"\"},\"colorscale\":[[0.0,\"#0d0887\"],[0.1111111111111111,\"#46039f\"],[0.2222222222222222,\"#7201a8\"],[0.3333333333333333,\"#9c179e\"],[0.4444444444444444,\"#bd3786\"],[0.5555555555555556,\"#d8576b\"],[0.6666666666666666,\"#ed7953\"],[0.7777777777777778,\"#fb9f3a\"],[0.8888888888888888,\"#fdca26\"],[1.0,\"#f0f921\"]],\"type\":\"histogram2dcontour\"}],\"mesh3d\":[{\"colorbar\":{\"outlinewidth\":0,\"ticks\":\"\"},\"type\":\"mesh3d\"}],\"parcoords\":[{\"line\":{\"colorbar\":{\"outlinewidth\":0,\"ticks\":\"\"}},\"type\":\"parcoords\"}],\"pie\":[{\"automargin\":true,\"type\":\"pie\"}],\"scatter\":[{\"marker\":{\"colorbar\":{\"outlinewidth\":0,\"ticks\":\"\"}},\"type\":\"scatter\"}],\"scatter3d\":[{\"line\":{\"colorbar\":{\"outlinewidth\":0,\"ticks\":\"\"}},\"marker\":{\"colorbar\":{\"outlinewidth\":0,\"ticks\":\"\"}},\"type\":\"scatter3d\"}],\"scattercarpet\":[{\"marker\":{\"colorbar\":{\"outlinewidth\":0,\"ticks\":\"\"}},\"type\":\"scattercarpet\"}],\"scattergeo\":[{\"marker\":{\"colorbar\":{\"outlinewidth\":0,\"ticks\":\"\"}},\"type\":\"scattergeo\"}],\"scattergl\":[{\"marker\":{\"colorbar\":{\"outlinewidth\":0,\"ticks\":\"\"}},\"type\":\"scattergl\"}],\"scattermapbox\":[{\"marker\":{\"colorbar\":{\"outlinewidth\":0,\"ticks\":\"\"}},\"type\":\"scattermapbox\"}],\"scatterpolar\":[{\"marker\":{\"colorbar\":{\"outlinewidth\":0,\"ticks\":\"\"}},\"type\":\"scatterpolar\"}],\"scatterpolargl\":[{\"marker\":{\"colorbar\":{\"outlinewidth\":0,\"ticks\":\"\"}},\"type\":\"scatterpolargl\"}],\"scatterternary\":[{\"marker\":{\"colorbar\":{\"outlinewidth\":0,\"ticks\":\"\"}},\"type\":\"scatterternary\"}],\"surface\":[{\"colorbar\":{\"outlinewidth\":0,\"ticks\":\"\"},\"colorscale\":[[0.0,\"#0d0887\"],[0.1111111111111111,\"#46039f\"],[0.2222222222222222,\"#7201a8\"],[0.3333333333333333,\"#9c179e\"],[0.4444444444444444,\"#bd3786\"],[0.5555555555555556,\"#d8576b\"],[0.6666666666666666,\"#ed7953\"],[0.7777777777777778,\"#fb9f3a\"],[0.8888888888888888,\"#fdca26\"],[1.0,\"#f0f921\"]],\"type\":\"surface\"}],\"table\":[{\"cells\":{\"fill\":{\"color\":\"#EBF0F8\"},\"line\":{\"color\":\"white\"}},\"header\":{\"fill\":{\"color\":\"#C8D4E3\"},\"line\":{\"color\":\"white\"}},\"type\":\"table\"}]},\"layout\":{\"annotationdefaults\":{\"arrowcolor\":\"#2a3f5f\",\"arrowhead\":0,\"arrowwidth\":1},\"autotypenumbers\":\"strict\",\"coloraxis\":{\"colorbar\":{\"outlinewidth\":0,\"ticks\":\"\"}},\"colorscale\":{\"diverging\":[[0,\"#8e0152\"],[0.1,\"#c51b7d\"],[0.2,\"#de77ae\"],[0.3,\"#f1b6da\"],[0.4,\"#fde0ef\"],[0.5,\"#f7f7f7\"],[0.6,\"#e6f5d0\"],[0.7,\"#b8e186\"],[0.8,\"#7fbc41\"],[0.9,\"#4d9221\"],[1,\"#276419\"]],\"sequential\":[[0.0,\"#0d0887\"],[0.1111111111111111,\"#46039f\"],[0.2222222222222222,\"#7201a8\"],[0.3333333333333333,\"#9c179e\"],[0.4444444444444444,\"#bd3786\"],[0.5555555555555556,\"#d8576b\"],[0.6666666666666666,\"#ed7953\"],[0.7777777777777778,\"#fb9f3a\"],[0.8888888888888888,\"#fdca26\"],[1.0,\"#f0f921\"]],\"sequentialminus\":[[0.0,\"#0d0887\"],[0.1111111111111111,\"#46039f\"],[0.2222222222222222,\"#7201a8\"],[0.3333333333333333,\"#9c179e\"],[0.4444444444444444,\"#bd3786\"],[0.5555555555555556,\"#d8576b\"],[0.6666666666666666,\"#ed7953\"],[0.7777777777777778,\"#fb9f3a\"],[0.8888888888888888,\"#fdca26\"],[1.0,\"#f0f921\"]]},\"colorway\":[\"#636efa\",\"#EF553B\",\"#00cc96\",\"#ab63fa\",\"#FFA15A\",\"#19d3f3\",\"#FF6692\",\"#B6E880\",\"#FF97FF\",\"#FECB52\"],\"font\":{\"color\":\"#2a3f5f\"},\"geo\":{\"bgcolor\":\"white\",\"lakecolor\":\"white\",\"landcolor\":\"#E5ECF6\",\"showlakes\":true,\"showland\":true,\"subunitcolor\":\"white\"},\"hoverlabel\":{\"align\":\"left\"},\"hovermode\":\"closest\",\"mapbox\":{\"style\":\"light\"},\"paper_bgcolor\":\"white\",\"plot_bgcolor\":\"#E5ECF6\",\"polar\":{\"angularaxis\":{\"gridcolor\":\"white\",\"linecolor\":\"white\",\"ticks\":\"\"},\"bgcolor\":\"#E5ECF6\",\"radialaxis\":{\"gridcolor\":\"white\",\"linecolor\":\"white\",\"ticks\":\"\"}},\"scene\":{\"xaxis\":{\"backgroundcolor\":\"#E5ECF6\",\"gridcolor\":\"white\",\"gridwidth\":2,\"linecolor\":\"white\",\"showbackground\":true,\"ticks\":\"\",\"zerolinecolor\":\"white\"},\"yaxis\":{\"backgroundcolor\":\"#E5ECF6\",\"gridcolor\":\"white\",\"gridwidth\":2,\"linecolor\":\"white\",\"showbackground\":true,\"ticks\":\"\",\"zerolinecolor\":\"white\"},\"zaxis\":{\"backgroundcolor\":\"#E5ECF6\",\"gridcolor\":\"white\",\"gridwidth\":2,\"linecolor\":\"white\",\"showbackground\":true,\"ticks\":\"\",\"zerolinecolor\":\"white\"}},\"shapedefaults\":{\"line\":{\"color\":\"#2a3f5f\"}},\"ternary\":{\"aaxis\":{\"gridcolor\":\"white\",\"linecolor\":\"white\",\"ticks\":\"\"},\"baxis\":{\"gridcolor\":\"white\",\"linecolor\":\"white\",\"ticks\":\"\"},\"bgcolor\":\"#E5ECF6\",\"caxis\":{\"gridcolor\":\"white\",\"linecolor\":\"white\",\"ticks\":\"\"}},\"title\":{\"x\":0.05},\"xaxis\":{\"automargin\":true,\"gridcolor\":\"white\",\"linecolor\":\"white\",\"ticks\":\"\",\"title\":{\"standoff\":15},\"zerolinecolor\":\"white\",\"zerolinewidth\":2},\"yaxis\":{\"automargin\":true,\"gridcolor\":\"white\",\"linecolor\":\"white\",\"ticks\":\"\",\"title\":{\"standoff\":15},\"zerolinecolor\":\"white\",\"zerolinewidth\":2}}},\"xaxis\":{\"anchor\":\"y\",\"domain\":[0.0,1.0],\"title\":{\"text\":\"Name\"}},\"yaxis\":{\"anchor\":\"x\",\"domain\":[0.0,1.0],\"title\":{\"text\":\"value\"}}},                        {\"responsive\": true}                    ).then(function(){\n",
       "                            \n",
       "var gd = document.getElementById('835883b7-4743-4b1c-80dc-aa0d0e44addd');\n",
       "var x = new MutationObserver(function (mutations, observer) {{\n",
       "        var display = window.getComputedStyle(gd).display;\n",
       "        if (!display || display === 'none') {{\n",
       "            console.log([gd, 'removed!']);\n",
       "            Plotly.purge(gd);\n",
       "            observer.disconnect();\n",
       "        }}\n",
       "}});\n",
       "\n",
       "// Listen for the removal of the full notebook cells\n",
       "var notebookContainer = gd.closest('#notebook-container');\n",
       "if (notebookContainer) {{\n",
       "    x.observe(notebookContainer, {childList: true});\n",
       "}}\n",
       "\n",
       "// Listen for the clearing of the current output cell\n",
       "var outputEl = gd.closest('.output');\n",
       "if (outputEl) {{\n",
       "    x.observe(outputEl, {childList: true});\n",
       "}}\n",
       "\n",
       "                        })                };                });            </script>        </div>"
      ],
      "application/vnd.plotly.v1+json": {
       "config": {
        "plotlyServerURL": "https://plot.ly"
       },
       "data": [
        {
         "alignmentgroup": "True",
         "hovertemplate": "variable=Reviews<br>Name=%{x}<br>value=%{y}<extra></extra>",
         "legendgroup": "Reviews",
         "marker": {
          "color": "#636efa",
          "pattern": {
           "shape": ""
          }
         },
         "name": "Reviews",
         "offsetgroup": "Reviews",
         "orientation": "v",
         "showlegend": true,
         "textposition": "auto",
         "type": "bar",
         "x": [
          "Sushizammai",
          "Sushi Sho",
          "Tsukijisushidai",
          "akasakakintan",
          "Sakaezushi",
          "Umegaokasushinomidorisouhonten",
          "Sugita",
          "Umegaokasushinomidorisouhonten",
          "sushinomidorisouhonten",
          "Shimizu"
         ],
         "xaxis": "x",
         "y": [
          559,
          539,
          472,
          430,
          414,
          371,
          365,
          352,
          345,
          343
         ],
         "yaxis": "y"
        },
        {
         "alignmentgroup": "True",
         "hovertemplate": "variable=Review_in_avg<br>Name=%{x}<br>value=%{y}<extra></extra>",
         "legendgroup": "Review_in_avg",
         "marker": {
          "color": "#EF553B",
          "pattern": {
           "shape": ""
          }
         },
         "name": "Review_in_avg",
         "offsetgroup": "Review_in_avg",
         "orientation": "v",
         "showlegend": true,
         "textposition": "auto",
         "type": "bar",
         "x": [
          "Sushizammai",
          "Sushi Sho",
          "Tsukijisushidai",
          "akasakakintan",
          "Sakaezushi",
          "Umegaokasushinomidorisouhonten",
          "Sugita",
          "Umegaokasushinomidorisouhonten",
          "sushinomidorisouhonten",
          "Shimizu"
         ],
         "xaxis": "x",
         "y": [
          44.85084745762712,
          44.85084745762712,
          44.85084745762712,
          44.85084745762712,
          44.85084745762712,
          44.85084745762712,
          44.85084745762712,
          44.85084745762712,
          44.85084745762712,
          44.85084745762712
         ],
         "yaxis": "y"
        }
       ],
       "layout": {
        "barmode": "group",
        "legend": {
         "title": {
          "text": "variable"
         },
         "tracegroupgap": 0
        },
        "margin": {
         "t": 60
        },
        "template": {
         "data": {
          "bar": [
           {
            "error_x": {
             "color": "#2a3f5f"
            },
            "error_y": {
             "color": "#2a3f5f"
            },
            "marker": {
             "line": {
              "color": "#E5ECF6",
              "width": 0.5
             },
             "pattern": {
              "fillmode": "overlay",
              "size": 10,
              "solidity": 0.2
             }
            },
            "type": "bar"
           }
          ],
          "barpolar": [
           {
            "marker": {
             "line": {
              "color": "#E5ECF6",
              "width": 0.5
             },
             "pattern": {
              "fillmode": "overlay",
              "size": 10,
              "solidity": 0.2
             }
            },
            "type": "barpolar"
           }
          ],
          "carpet": [
           {
            "aaxis": {
             "endlinecolor": "#2a3f5f",
             "gridcolor": "white",
             "linecolor": "white",
             "minorgridcolor": "white",
             "startlinecolor": "#2a3f5f"
            },
            "baxis": {
             "endlinecolor": "#2a3f5f",
             "gridcolor": "white",
             "linecolor": "white",
             "minorgridcolor": "white",
             "startlinecolor": "#2a3f5f"
            },
            "type": "carpet"
           }
          ],
          "choropleth": [
           {
            "colorbar": {
             "outlinewidth": 0,
             "ticks": ""
            },
            "type": "choropleth"
           }
          ],
          "contour": [
           {
            "colorbar": {
             "outlinewidth": 0,
             "ticks": ""
            },
            "colorscale": [
             [
              0,
              "#0d0887"
             ],
             [
              0.1111111111111111,
              "#46039f"
             ],
             [
              0.2222222222222222,
              "#7201a8"
             ],
             [
              0.3333333333333333,
              "#9c179e"
             ],
             [
              0.4444444444444444,
              "#bd3786"
             ],
             [
              0.5555555555555556,
              "#d8576b"
             ],
             [
              0.6666666666666666,
              "#ed7953"
             ],
             [
              0.7777777777777778,
              "#fb9f3a"
             ],
             [
              0.8888888888888888,
              "#fdca26"
             ],
             [
              1,
              "#f0f921"
             ]
            ],
            "type": "contour"
           }
          ],
          "contourcarpet": [
           {
            "colorbar": {
             "outlinewidth": 0,
             "ticks": ""
            },
            "type": "contourcarpet"
           }
          ],
          "heatmap": [
           {
            "colorbar": {
             "outlinewidth": 0,
             "ticks": ""
            },
            "colorscale": [
             [
              0,
              "#0d0887"
             ],
             [
              0.1111111111111111,
              "#46039f"
             ],
             [
              0.2222222222222222,
              "#7201a8"
             ],
             [
              0.3333333333333333,
              "#9c179e"
             ],
             [
              0.4444444444444444,
              "#bd3786"
             ],
             [
              0.5555555555555556,
              "#d8576b"
             ],
             [
              0.6666666666666666,
              "#ed7953"
             ],
             [
              0.7777777777777778,
              "#fb9f3a"
             ],
             [
              0.8888888888888888,
              "#fdca26"
             ],
             [
              1,
              "#f0f921"
             ]
            ],
            "type": "heatmap"
           }
          ],
          "heatmapgl": [
           {
            "colorbar": {
             "outlinewidth": 0,
             "ticks": ""
            },
            "colorscale": [
             [
              0,
              "#0d0887"
             ],
             [
              0.1111111111111111,
              "#46039f"
             ],
             [
              0.2222222222222222,
              "#7201a8"
             ],
             [
              0.3333333333333333,
              "#9c179e"
             ],
             [
              0.4444444444444444,
              "#bd3786"
             ],
             [
              0.5555555555555556,
              "#d8576b"
             ],
             [
              0.6666666666666666,
              "#ed7953"
             ],
             [
              0.7777777777777778,
              "#fb9f3a"
             ],
             [
              0.8888888888888888,
              "#fdca26"
             ],
             [
              1,
              "#f0f921"
             ]
            ],
            "type": "heatmapgl"
           }
          ],
          "histogram": [
           {
            "marker": {
             "pattern": {
              "fillmode": "overlay",
              "size": 10,
              "solidity": 0.2
             }
            },
            "type": "histogram"
           }
          ],
          "histogram2d": [
           {
            "colorbar": {
             "outlinewidth": 0,
             "ticks": ""
            },
            "colorscale": [
             [
              0,
              "#0d0887"
             ],
             [
              0.1111111111111111,
              "#46039f"
             ],
             [
              0.2222222222222222,
              "#7201a8"
             ],
             [
              0.3333333333333333,
              "#9c179e"
             ],
             [
              0.4444444444444444,
              "#bd3786"
             ],
             [
              0.5555555555555556,
              "#d8576b"
             ],
             [
              0.6666666666666666,
              "#ed7953"
             ],
             [
              0.7777777777777778,
              "#fb9f3a"
             ],
             [
              0.8888888888888888,
              "#fdca26"
             ],
             [
              1,
              "#f0f921"
             ]
            ],
            "type": "histogram2d"
           }
          ],
          "histogram2dcontour": [
           {
            "colorbar": {
             "outlinewidth": 0,
             "ticks": ""
            },
            "colorscale": [
             [
              0,
              "#0d0887"
             ],
             [
              0.1111111111111111,
              "#46039f"
             ],
             [
              0.2222222222222222,
              "#7201a8"
             ],
             [
              0.3333333333333333,
              "#9c179e"
             ],
             [
              0.4444444444444444,
              "#bd3786"
             ],
             [
              0.5555555555555556,
              "#d8576b"
             ],
             [
              0.6666666666666666,
              "#ed7953"
             ],
             [
              0.7777777777777778,
              "#fb9f3a"
             ],
             [
              0.8888888888888888,
              "#fdca26"
             ],
             [
              1,
              "#f0f921"
             ]
            ],
            "type": "histogram2dcontour"
           }
          ],
          "mesh3d": [
           {
            "colorbar": {
             "outlinewidth": 0,
             "ticks": ""
            },
            "type": "mesh3d"
           }
          ],
          "parcoords": [
           {
            "line": {
             "colorbar": {
              "outlinewidth": 0,
              "ticks": ""
             }
            },
            "type": "parcoords"
           }
          ],
          "pie": [
           {
            "automargin": true,
            "type": "pie"
           }
          ],
          "scatter": [
           {
            "marker": {
             "colorbar": {
              "outlinewidth": 0,
              "ticks": ""
             }
            },
            "type": "scatter"
           }
          ],
          "scatter3d": [
           {
            "line": {
             "colorbar": {
              "outlinewidth": 0,
              "ticks": ""
             }
            },
            "marker": {
             "colorbar": {
              "outlinewidth": 0,
              "ticks": ""
             }
            },
            "type": "scatter3d"
           }
          ],
          "scattercarpet": [
           {
            "marker": {
             "colorbar": {
              "outlinewidth": 0,
              "ticks": ""
             }
            },
            "type": "scattercarpet"
           }
          ],
          "scattergeo": [
           {
            "marker": {
             "colorbar": {
              "outlinewidth": 0,
              "ticks": ""
             }
            },
            "type": "scattergeo"
           }
          ],
          "scattergl": [
           {
            "marker": {
             "colorbar": {
              "outlinewidth": 0,
              "ticks": ""
             }
            },
            "type": "scattergl"
           }
          ],
          "scattermapbox": [
           {
            "marker": {
             "colorbar": {
              "outlinewidth": 0,
              "ticks": ""
             }
            },
            "type": "scattermapbox"
           }
          ],
          "scatterpolar": [
           {
            "marker": {
             "colorbar": {
              "outlinewidth": 0,
              "ticks": ""
             }
            },
            "type": "scatterpolar"
           }
          ],
          "scatterpolargl": [
           {
            "marker": {
             "colorbar": {
              "outlinewidth": 0,
              "ticks": ""
             }
            },
            "type": "scatterpolargl"
           }
          ],
          "scatterternary": [
           {
            "marker": {
             "colorbar": {
              "outlinewidth": 0,
              "ticks": ""
             }
            },
            "type": "scatterternary"
           }
          ],
          "surface": [
           {
            "colorbar": {
             "outlinewidth": 0,
             "ticks": ""
            },
            "colorscale": [
             [
              0,
              "#0d0887"
             ],
             [
              0.1111111111111111,
              "#46039f"
             ],
             [
              0.2222222222222222,
              "#7201a8"
             ],
             [
              0.3333333333333333,
              "#9c179e"
             ],
             [
              0.4444444444444444,
              "#bd3786"
             ],
             [
              0.5555555555555556,
              "#d8576b"
             ],
             [
              0.6666666666666666,
              "#ed7953"
             ],
             [
              0.7777777777777778,
              "#fb9f3a"
             ],
             [
              0.8888888888888888,
              "#fdca26"
             ],
             [
              1,
              "#f0f921"
             ]
            ],
            "type": "surface"
           }
          ],
          "table": [
           {
            "cells": {
             "fill": {
              "color": "#EBF0F8"
             },
             "line": {
              "color": "white"
             }
            },
            "header": {
             "fill": {
              "color": "#C8D4E3"
             },
             "line": {
              "color": "white"
             }
            },
            "type": "table"
           }
          ]
         },
         "layout": {
          "annotationdefaults": {
           "arrowcolor": "#2a3f5f",
           "arrowhead": 0,
           "arrowwidth": 1
          },
          "autotypenumbers": "strict",
          "coloraxis": {
           "colorbar": {
            "outlinewidth": 0,
            "ticks": ""
           }
          },
          "colorscale": {
           "diverging": [
            [
             0,
             "#8e0152"
            ],
            [
             0.1,
             "#c51b7d"
            ],
            [
             0.2,
             "#de77ae"
            ],
            [
             0.3,
             "#f1b6da"
            ],
            [
             0.4,
             "#fde0ef"
            ],
            [
             0.5,
             "#f7f7f7"
            ],
            [
             0.6,
             "#e6f5d0"
            ],
            [
             0.7,
             "#b8e186"
            ],
            [
             0.8,
             "#7fbc41"
            ],
            [
             0.9,
             "#4d9221"
            ],
            [
             1,
             "#276419"
            ]
           ],
           "sequential": [
            [
             0,
             "#0d0887"
            ],
            [
             0.1111111111111111,
             "#46039f"
            ],
            [
             0.2222222222222222,
             "#7201a8"
            ],
            [
             0.3333333333333333,
             "#9c179e"
            ],
            [
             0.4444444444444444,
             "#bd3786"
            ],
            [
             0.5555555555555556,
             "#d8576b"
            ],
            [
             0.6666666666666666,
             "#ed7953"
            ],
            [
             0.7777777777777778,
             "#fb9f3a"
            ],
            [
             0.8888888888888888,
             "#fdca26"
            ],
            [
             1,
             "#f0f921"
            ]
           ],
           "sequentialminus": [
            [
             0,
             "#0d0887"
            ],
            [
             0.1111111111111111,
             "#46039f"
            ],
            [
             0.2222222222222222,
             "#7201a8"
            ],
            [
             0.3333333333333333,
             "#9c179e"
            ],
            [
             0.4444444444444444,
             "#bd3786"
            ],
            [
             0.5555555555555556,
             "#d8576b"
            ],
            [
             0.6666666666666666,
             "#ed7953"
            ],
            [
             0.7777777777777778,
             "#fb9f3a"
            ],
            [
             0.8888888888888888,
             "#fdca26"
            ],
            [
             1,
             "#f0f921"
            ]
           ]
          },
          "colorway": [
           "#636efa",
           "#EF553B",
           "#00cc96",
           "#ab63fa",
           "#FFA15A",
           "#19d3f3",
           "#FF6692",
           "#B6E880",
           "#FF97FF",
           "#FECB52"
          ],
          "font": {
           "color": "#2a3f5f"
          },
          "geo": {
           "bgcolor": "white",
           "lakecolor": "white",
           "landcolor": "#E5ECF6",
           "showlakes": true,
           "showland": true,
           "subunitcolor": "white"
          },
          "hoverlabel": {
           "align": "left"
          },
          "hovermode": "closest",
          "mapbox": {
           "style": "light"
          },
          "paper_bgcolor": "white",
          "plot_bgcolor": "#E5ECF6",
          "polar": {
           "angularaxis": {
            "gridcolor": "white",
            "linecolor": "white",
            "ticks": ""
           },
           "bgcolor": "#E5ECF6",
           "radialaxis": {
            "gridcolor": "white",
            "linecolor": "white",
            "ticks": ""
           }
          },
          "scene": {
           "xaxis": {
            "backgroundcolor": "#E5ECF6",
            "gridcolor": "white",
            "gridwidth": 2,
            "linecolor": "white",
            "showbackground": true,
            "ticks": "",
            "zerolinecolor": "white"
           },
           "yaxis": {
            "backgroundcolor": "#E5ECF6",
            "gridcolor": "white",
            "gridwidth": 2,
            "linecolor": "white",
            "showbackground": true,
            "ticks": "",
            "zerolinecolor": "white"
           },
           "zaxis": {
            "backgroundcolor": "#E5ECF6",
            "gridcolor": "white",
            "gridwidth": 2,
            "linecolor": "white",
            "showbackground": true,
            "ticks": "",
            "zerolinecolor": "white"
           }
          },
          "shapedefaults": {
           "line": {
            "color": "#2a3f5f"
           }
          },
          "ternary": {
           "aaxis": {
            "gridcolor": "white",
            "linecolor": "white",
            "ticks": ""
           },
           "baxis": {
            "gridcolor": "white",
            "linecolor": "white",
            "ticks": ""
           },
           "bgcolor": "#E5ECF6",
           "caxis": {
            "gridcolor": "white",
            "linecolor": "white",
            "ticks": ""
           }
          },
          "title": {
           "x": 0.05
          },
          "xaxis": {
           "automargin": true,
           "gridcolor": "white",
           "linecolor": "white",
           "ticks": "",
           "title": {
            "standoff": 15
           },
           "zerolinecolor": "white",
           "zerolinewidth": 2
          },
          "yaxis": {
           "automargin": true,
           "gridcolor": "white",
           "linecolor": "white",
           "ticks": "",
           "title": {
            "standoff": 15
           },
           "zerolinecolor": "white",
           "zerolinewidth": 2
          }
         }
        },
        "xaxis": {
         "anchor": "y",
         "domain": [
          0,
          1
         ],
         "title": {
          "text": "Name"
         }
        },
        "yaxis": {
         "anchor": "x",
         "domain": [
          0,
          1
         ],
         "title": {
          "text": "value"
         }
        }
       }
      }
     },
     "metadata": {}
    }
   ],
   "metadata": {}
  },
  {
   "cell_type": "markdown",
   "source": [
    "## Cheap place recommendation"
   ],
   "metadata": {}
  },
  {
   "cell_type": "code",
   "execution_count": 50,
   "source": [
    "df_restaurant = pd.read_csv('sushidata.csv')\n",
    "df_restaurant"
   ],
   "outputs": [
    {
     "output_type": "execute_result",
     "data": {
      "text/plain": [
       "                               Name  \\\n",
       "0                       Sushizammai   \n",
       "1                      Sushiichikan   \n",
       "2                      ITAMAE SUSHI   \n",
       "3            sushishiorianyamashiro   \n",
       "4               Ginzasushikouhonten   \n",
       "...                             ...   \n",
       "1175              Kaitenzushitaisei   \n",
       "1176                   Nigirinoippo   \n",
       "1177  Akasakasushishiorianyamashiro   \n",
       "1178         sushinomidorisouhonten   \n",
       "1179                     Koukizushi   \n",
       "\n",
       "                                            Address          Phone  \\\n",
       "0            1-chome-1-15 Ōkubo Shinjuku City Tokyo  050-5593-9051   \n",
       "1         22-8 Sakuragaokacho Shibuya City Tokyo-to  050-5595-2988   \n",
       "2     1-chome-19-1 Kabukicho Shinjuku City Tokyo-to  050-5589-2295   \n",
       "3          5-chome-12-10 Shiba Minato City Tokyo-to  050-5456-8458   \n",
       "4      2-chome-4-1 Marunouchi Chiyoda City Tokyo-to  050-5596-3820   \n",
       "...                                             ...            ...   \n",
       "1175                6-12 Asahicho Hachioji Tokyo-to            NaN   \n",
       "1176                        Senju Adachi City Tokyo  050-5868-5967   \n",
       "1177        3-chome-15-13 Akasaka Minato City Tokyo            NaN   \n",
       "1178     1 Chome-20-7 Umegaoka Setagaya-ku Tokyo-to            NaN   \n",
       "1179     2-chome-30-1 Akebonocho Tachikawa Tokyo-to            NaN   \n",
       "\n",
       "                                                Website  \\\n",
       "0     https://tabelog.com/en/tokyo/A1304/A130401/130...   \n",
       "1     https://tabelog.com/en/tokyo/A1303/A130301/132...   \n",
       "2     https://tabelog.com/en/tokyo/A1304/A130401/131...   \n",
       "3     https://tabelog.com/en/tokyo/A1314/A131402/132...   \n",
       "4     https://tabelog.com/en/tokyo/A1302/A130201/130...   \n",
       "...                                                 ...   \n",
       "1175  https://tabelog.com/en/tokyo/A1329/A132904/131...   \n",
       "1176  https://tabelog.com/en/tokyo/A1324/A132402/131...   \n",
       "1177  https://tabelog.com/en/tokyo/A1308/A130801/132...   \n",
       "1178  https://tabelog.com/en/tokyo/A1318/A131812/130...   \n",
       "1179  https://tabelog.com/en/tokyo/A1329/A132901/130...   \n",
       "\n",
       "                                        Operating_Hours      Dinner_cost  \\\n",
       "0                                           11：00～翌7：00    ￥3,000～￥3,999   \n",
       "1     ランチタイム(月曜、火曜、木曜、金曜のみ)11:30~14:00ディナータイム17:30~2...  ￥10,000～￥14,999   \n",
       "2       【店内営業/テイクアウト】 全日08:00～翌05:00［ランチタイム］11:30～15:00    ￥3,000～￥3,999   \n",
       "3                      ランチ　　12:00~14:00ディナー　17:00~23:00  ￥10,000～￥14,999   \n",
       "4     月～土 ランチ11:00～14:30（L.O.14:00）ディナー17:30～23:00（L...  ￥10,000～￥14,999   \n",
       "...                                                 ...              ...   \n",
       "1175                                        11:00～20:45    ￥1,000～￥1,999   \n",
       "1176            17:00～23:00(フードL.O.22:00 ドリンクL.O.22:30)    ￥6,000～￥7,999   \n",
       "1177                         通常営業時間16:00 ～ 24:00（23:00）    ￥8,000～￥9,999   \n",
       "1178  [月]11:00～21:00（L.O.20:45）[火～金]11:00～14:00 16:3...    ￥3,000～￥3,999   \n",
       "1179      [月～金]11:30～14:0017:00～22:00[土・日・祝]17:00～22:00    ￥3,000～￥3,999   \n",
       "\n",
       "         Lunch_cost  Rating  Reviews  \n",
       "0     ￥1,000～￥1,999    3.18       97  \n",
       "1     ￥2,000～￥2,999    3.09       14  \n",
       "2             ～￥999    3.25      111  \n",
       "3     ￥1,000～￥1,999    3.41       48  \n",
       "4     ￥5,000～￥5,999    3.53       48  \n",
       "...             ...     ...      ...  \n",
       "1175          ～￥999    3.28       20  \n",
       "1176              -    3.53       60  \n",
       "1177  ￥6,000～￥7,999    3.09       15  \n",
       "1178  ￥2,000～￥2,999    3.53      345  \n",
       "1179          ～￥999    3.46       38  \n",
       "\n",
       "[1180 rows x 9 columns]"
      ],
      "text/html": [
       "<div>\n",
       "<style scoped>\n",
       "    .dataframe tbody tr th:only-of-type {\n",
       "        vertical-align: middle;\n",
       "    }\n",
       "\n",
       "    .dataframe tbody tr th {\n",
       "        vertical-align: top;\n",
       "    }\n",
       "\n",
       "    .dataframe thead th {\n",
       "        text-align: right;\n",
       "    }\n",
       "</style>\n",
       "<table border=\"1\" class=\"dataframe\">\n",
       "  <thead>\n",
       "    <tr style=\"text-align: right;\">\n",
       "      <th></th>\n",
       "      <th>Name</th>\n",
       "      <th>Address</th>\n",
       "      <th>Phone</th>\n",
       "      <th>Website</th>\n",
       "      <th>Operating_Hours</th>\n",
       "      <th>Dinner_cost</th>\n",
       "      <th>Lunch_cost</th>\n",
       "      <th>Rating</th>\n",
       "      <th>Reviews</th>\n",
       "    </tr>\n",
       "  </thead>\n",
       "  <tbody>\n",
       "    <tr>\n",
       "      <th>0</th>\n",
       "      <td>Sushizammai</td>\n",
       "      <td>1-chome-1-15 Ōkubo Shinjuku City Tokyo</td>\n",
       "      <td>050-5593-9051</td>\n",
       "      <td>https://tabelog.com/en/tokyo/A1304/A130401/130...</td>\n",
       "      <td>11：00～翌7：00</td>\n",
       "      <td>￥3,000～￥3,999</td>\n",
       "      <td>￥1,000～￥1,999</td>\n",
       "      <td>3.18</td>\n",
       "      <td>97</td>\n",
       "    </tr>\n",
       "    <tr>\n",
       "      <th>1</th>\n",
       "      <td>Sushiichikan</td>\n",
       "      <td>22-8 Sakuragaokacho Shibuya City Tokyo-to</td>\n",
       "      <td>050-5595-2988</td>\n",
       "      <td>https://tabelog.com/en/tokyo/A1303/A130301/132...</td>\n",
       "      <td>ランチタイム(月曜、火曜、木曜、金曜のみ)11:30~14:00ディナータイム17:30~2...</td>\n",
       "      <td>￥10,000～￥14,999</td>\n",
       "      <td>￥2,000～￥2,999</td>\n",
       "      <td>3.09</td>\n",
       "      <td>14</td>\n",
       "    </tr>\n",
       "    <tr>\n",
       "      <th>2</th>\n",
       "      <td>ITAMAE SUSHI</td>\n",
       "      <td>1-chome-19-1 Kabukicho Shinjuku City Tokyo-to</td>\n",
       "      <td>050-5589-2295</td>\n",
       "      <td>https://tabelog.com/en/tokyo/A1304/A130401/131...</td>\n",
       "      <td>【店内営業/テイクアウト】 全日08:00～翌05:00［ランチタイム］11:30～15:00</td>\n",
       "      <td>￥3,000～￥3,999</td>\n",
       "      <td>～￥999</td>\n",
       "      <td>3.25</td>\n",
       "      <td>111</td>\n",
       "    </tr>\n",
       "    <tr>\n",
       "      <th>3</th>\n",
       "      <td>sushishiorianyamashiro</td>\n",
       "      <td>5-chome-12-10 Shiba Minato City Tokyo-to</td>\n",
       "      <td>050-5456-8458</td>\n",
       "      <td>https://tabelog.com/en/tokyo/A1314/A131402/132...</td>\n",
       "      <td>ランチ　　12:00~14:00ディナー　17:00~23:00</td>\n",
       "      <td>￥10,000～￥14,999</td>\n",
       "      <td>￥1,000～￥1,999</td>\n",
       "      <td>3.41</td>\n",
       "      <td>48</td>\n",
       "    </tr>\n",
       "    <tr>\n",
       "      <th>4</th>\n",
       "      <td>Ginzasushikouhonten</td>\n",
       "      <td>2-chome-4-1 Marunouchi Chiyoda City Tokyo-to</td>\n",
       "      <td>050-5596-3820</td>\n",
       "      <td>https://tabelog.com/en/tokyo/A1302/A130201/130...</td>\n",
       "      <td>月～土 ランチ11:00～14:30（L.O.14:00）ディナー17:30～23:00（L...</td>\n",
       "      <td>￥10,000～￥14,999</td>\n",
       "      <td>￥5,000～￥5,999</td>\n",
       "      <td>3.53</td>\n",
       "      <td>48</td>\n",
       "    </tr>\n",
       "    <tr>\n",
       "      <th>...</th>\n",
       "      <td>...</td>\n",
       "      <td>...</td>\n",
       "      <td>...</td>\n",
       "      <td>...</td>\n",
       "      <td>...</td>\n",
       "      <td>...</td>\n",
       "      <td>...</td>\n",
       "      <td>...</td>\n",
       "      <td>...</td>\n",
       "    </tr>\n",
       "    <tr>\n",
       "      <th>1175</th>\n",
       "      <td>Kaitenzushitaisei</td>\n",
       "      <td>6-12 Asahicho Hachioji Tokyo-to</td>\n",
       "      <td>NaN</td>\n",
       "      <td>https://tabelog.com/en/tokyo/A1329/A132904/131...</td>\n",
       "      <td>11:00～20:45</td>\n",
       "      <td>￥1,000～￥1,999</td>\n",
       "      <td>～￥999</td>\n",
       "      <td>3.28</td>\n",
       "      <td>20</td>\n",
       "    </tr>\n",
       "    <tr>\n",
       "      <th>1176</th>\n",
       "      <td>Nigirinoippo</td>\n",
       "      <td>Senju Adachi City Tokyo</td>\n",
       "      <td>050-5868-5967</td>\n",
       "      <td>https://tabelog.com/en/tokyo/A1324/A132402/131...</td>\n",
       "      <td>17:00～23:00(フードL.O.22:00 ドリンクL.O.22:30)</td>\n",
       "      <td>￥6,000～￥7,999</td>\n",
       "      <td>-</td>\n",
       "      <td>3.53</td>\n",
       "      <td>60</td>\n",
       "    </tr>\n",
       "    <tr>\n",
       "      <th>1177</th>\n",
       "      <td>Akasakasushishiorianyamashiro</td>\n",
       "      <td>3-chome-15-13 Akasaka Minato City Tokyo</td>\n",
       "      <td>NaN</td>\n",
       "      <td>https://tabelog.com/en/tokyo/A1308/A130801/132...</td>\n",
       "      <td>通常営業時間16:00 ～ 24:00（23:00）</td>\n",
       "      <td>￥8,000～￥9,999</td>\n",
       "      <td>￥6,000～￥7,999</td>\n",
       "      <td>3.09</td>\n",
       "      <td>15</td>\n",
       "    </tr>\n",
       "    <tr>\n",
       "      <th>1178</th>\n",
       "      <td>sushinomidorisouhonten</td>\n",
       "      <td>1 Chome-20-7 Umegaoka Setagaya-ku Tokyo-to</td>\n",
       "      <td>NaN</td>\n",
       "      <td>https://tabelog.com/en/tokyo/A1318/A131812/130...</td>\n",
       "      <td>[月]11:00～21:00（L.O.20:45）[火～金]11:00～14:00 16:3...</td>\n",
       "      <td>￥3,000～￥3,999</td>\n",
       "      <td>￥2,000～￥2,999</td>\n",
       "      <td>3.53</td>\n",
       "      <td>345</td>\n",
       "    </tr>\n",
       "    <tr>\n",
       "      <th>1179</th>\n",
       "      <td>Koukizushi</td>\n",
       "      <td>2-chome-30-1 Akebonocho Tachikawa Tokyo-to</td>\n",
       "      <td>NaN</td>\n",
       "      <td>https://tabelog.com/en/tokyo/A1329/A132901/130...</td>\n",
       "      <td>[月～金]11:30～14:0017:00～22:00[土・日・祝]17:00～22:00</td>\n",
       "      <td>￥3,000～￥3,999</td>\n",
       "      <td>～￥999</td>\n",
       "      <td>3.46</td>\n",
       "      <td>38</td>\n",
       "    </tr>\n",
       "  </tbody>\n",
       "</table>\n",
       "<p>1180 rows × 9 columns</p>\n",
       "</div>"
      ]
     },
     "metadata": {},
     "execution_count": 50
    }
   ],
   "metadata": {}
  },
  {
   "cell_type": "code",
   "execution_count": 53,
   "source": [
    "df_restaurant['Dinner_cost'] = df_restaurant['Dinner_cost'].str.replace('￥', '')\n",
    "df_restaurant['Dinner_cost'] = df_restaurant['Dinner_cost'].str.replace(',', '')\n",
    "df_restaurant['Dinner_cost']\n",
    "seperate_dinner_cost  = df_restaurant['Dinner_cost'].str.split('～', n = 2, expand = True)\n",
    "for i in range((len(seperate_dinner_cost.columns))):\n",
    "    seperate_dinner_cost[i]  = seperate_dinner_cost[i].replace({'-':None})\n",
    "    seperate_dinner_cost[i] = (pd.to_numeric(seperate_dinner_cost[i], downcast='float')\n",
    "                            .where(seperate_dinner_cost[i].notnull()))\n",
    "#seperate_dinner_cost[0].apply(type)\n"
   ],
   "outputs": [],
   "metadata": {}
  },
  {
   "cell_type": "code",
   "execution_count": 55,
   "source": [
    "df_restaurant['Lunch_cost'] = df_restaurant['Lunch_cost'].str.replace('￥', '')\n",
    "df_restaurant['Lunch_cost'] = df_restaurant['Lunch_cost'].str.replace(',', '')\n",
    "df_restaurant['Lunch_cost']\n",
    "seperate_lunch_cost  = df_restaurant['Lunch_cost'].str.split('～', n = 2, expand = True)\n",
    "for i in range((len(seperate_lunch_cost.columns))):\n",
    "    seperate_lunch_cost[i]  = seperate_lunch_cost[i].replace({'-':None})\n",
    "    seperate_lunch_cost[i] = (pd.to_numeric(seperate_lunch_cost[i], downcast='float')\n",
    "                            .where(seperate_lunch_cost[i].notnull()))"
   ],
   "outputs": [],
   "metadata": {}
  },
  {
   "cell_type": "code",
   "execution_count": 57,
   "source": [
    " df_restaurant['Min_dinner_cost'] = seperate_dinner_cost[0]\n",
    " df_restaurant['Max_dinner_cost'] = seperate_dinner_cost[1]\n",
    " df_restaurant['Min_lunch_cost'] = seperate_lunch_cost[0]\n",
    " df_restaurant['Max_lunch_cost'] = seperate_lunch_cost[1]\n",
    " df_restaurant"
   ],
   "outputs": [
    {
     "output_type": "execute_result",
     "data": {
      "text/plain": [
       "                               Name  \\\n",
       "0                       Sushizammai   \n",
       "1                      Sushiichikan   \n",
       "2                      ITAMAE SUSHI   \n",
       "3            sushishiorianyamashiro   \n",
       "4               Ginzasushikouhonten   \n",
       "...                             ...   \n",
       "1175              Kaitenzushitaisei   \n",
       "1176                   Nigirinoippo   \n",
       "1177  Akasakasushishiorianyamashiro   \n",
       "1178         sushinomidorisouhonten   \n",
       "1179                     Koukizushi   \n",
       "\n",
       "                                            Address          Phone  \\\n",
       "0            1-chome-1-15 Ōkubo Shinjuku City Tokyo  050-5593-9051   \n",
       "1         22-8 Sakuragaokacho Shibuya City Tokyo-to  050-5595-2988   \n",
       "2     1-chome-19-1 Kabukicho Shinjuku City Tokyo-to  050-5589-2295   \n",
       "3          5-chome-12-10 Shiba Minato City Tokyo-to  050-5456-8458   \n",
       "4      2-chome-4-1 Marunouchi Chiyoda City Tokyo-to  050-5596-3820   \n",
       "...                                             ...            ...   \n",
       "1175                6-12 Asahicho Hachioji Tokyo-to            NaN   \n",
       "1176                        Senju Adachi City Tokyo  050-5868-5967   \n",
       "1177        3-chome-15-13 Akasaka Minato City Tokyo            NaN   \n",
       "1178     1 Chome-20-7 Umegaoka Setagaya-ku Tokyo-to            NaN   \n",
       "1179     2-chome-30-1 Akebonocho Tachikawa Tokyo-to            NaN   \n",
       "\n",
       "                                                Website  \\\n",
       "0     https://tabelog.com/en/tokyo/A1304/A130401/130...   \n",
       "1     https://tabelog.com/en/tokyo/A1303/A130301/132...   \n",
       "2     https://tabelog.com/en/tokyo/A1304/A130401/131...   \n",
       "3     https://tabelog.com/en/tokyo/A1314/A131402/132...   \n",
       "4     https://tabelog.com/en/tokyo/A1302/A130201/130...   \n",
       "...                                                 ...   \n",
       "1175  https://tabelog.com/en/tokyo/A1329/A132904/131...   \n",
       "1176  https://tabelog.com/en/tokyo/A1324/A132402/131...   \n",
       "1177  https://tabelog.com/en/tokyo/A1308/A130801/132...   \n",
       "1178  https://tabelog.com/en/tokyo/A1318/A131812/130...   \n",
       "1179  https://tabelog.com/en/tokyo/A1329/A132901/130...   \n",
       "\n",
       "                                        Operating_Hours  Dinner_cost  \\\n",
       "0                                           11：00～翌7：00    3000～3999   \n",
       "1     ランチタイム(月曜、火曜、木曜、金曜のみ)11:30~14:00ディナータイム17:30~2...  10000～14999   \n",
       "2       【店内営業/テイクアウト】 全日08:00～翌05:00［ランチタイム］11:30～15:00    3000～3999   \n",
       "3                      ランチ　　12:00~14:00ディナー　17:00~23:00  10000～14999   \n",
       "4     月～土 ランチ11:00～14:30（L.O.14:00）ディナー17:30～23:00（L...  10000～14999   \n",
       "...                                                 ...          ...   \n",
       "1175                                        11:00～20:45    1000～1999   \n",
       "1176            17:00～23:00(フードL.O.22:00 ドリンクL.O.22:30)    6000～7999   \n",
       "1177                         通常営業時間16:00 ～ 24:00（23:00）    8000～9999   \n",
       "1178  [月]11:00～21:00（L.O.20:45）[火～金]11:00～14:00 16:3...    3000～3999   \n",
       "1179      [月～金]11:30～14:0017:00～22:00[土・日・祝]17:00～22:00    3000～3999   \n",
       "\n",
       "     Lunch_cost  Rating  Reviews  Min_dinner_cost  Max_dinner_cost  \\\n",
       "0     1000～1999    3.18       97           3000.0           3999.0   \n",
       "1     2000～2999    3.09       14          10000.0          14999.0   \n",
       "2          ～999    3.25      111           3000.0           3999.0   \n",
       "3     1000～1999    3.41       48          10000.0          14999.0   \n",
       "4     5000～5999    3.53       48          10000.0          14999.0   \n",
       "...         ...     ...      ...              ...              ...   \n",
       "1175       ～999    3.28       20           1000.0           1999.0   \n",
       "1176          -    3.53       60           6000.0           7999.0   \n",
       "1177  6000～7999    3.09       15           8000.0           9999.0   \n",
       "1178  2000～2999    3.53      345           3000.0           3999.0   \n",
       "1179       ～999    3.46       38           3000.0           3999.0   \n",
       "\n",
       "      Min_lunch_cost  Max_lunch_cost  \n",
       "0             1000.0          1999.0  \n",
       "1             2000.0          2999.0  \n",
       "2                NaN           999.0  \n",
       "3             1000.0          1999.0  \n",
       "4             5000.0          5999.0  \n",
       "...              ...             ...  \n",
       "1175             NaN           999.0  \n",
       "1176             NaN             NaN  \n",
       "1177          6000.0          7999.0  \n",
       "1178          2000.0          2999.0  \n",
       "1179             NaN           999.0  \n",
       "\n",
       "[1180 rows x 13 columns]"
      ],
      "text/html": [
       "<div>\n",
       "<style scoped>\n",
       "    .dataframe tbody tr th:only-of-type {\n",
       "        vertical-align: middle;\n",
       "    }\n",
       "\n",
       "    .dataframe tbody tr th {\n",
       "        vertical-align: top;\n",
       "    }\n",
       "\n",
       "    .dataframe thead th {\n",
       "        text-align: right;\n",
       "    }\n",
       "</style>\n",
       "<table border=\"1\" class=\"dataframe\">\n",
       "  <thead>\n",
       "    <tr style=\"text-align: right;\">\n",
       "      <th></th>\n",
       "      <th>Name</th>\n",
       "      <th>Address</th>\n",
       "      <th>Phone</th>\n",
       "      <th>Website</th>\n",
       "      <th>Operating_Hours</th>\n",
       "      <th>Dinner_cost</th>\n",
       "      <th>Lunch_cost</th>\n",
       "      <th>Rating</th>\n",
       "      <th>Reviews</th>\n",
       "      <th>Min_dinner_cost</th>\n",
       "      <th>Max_dinner_cost</th>\n",
       "      <th>Min_lunch_cost</th>\n",
       "      <th>Max_lunch_cost</th>\n",
       "    </tr>\n",
       "  </thead>\n",
       "  <tbody>\n",
       "    <tr>\n",
       "      <th>0</th>\n",
       "      <td>Sushizammai</td>\n",
       "      <td>1-chome-1-15 Ōkubo Shinjuku City Tokyo</td>\n",
       "      <td>050-5593-9051</td>\n",
       "      <td>https://tabelog.com/en/tokyo/A1304/A130401/130...</td>\n",
       "      <td>11：00～翌7：00</td>\n",
       "      <td>3000～3999</td>\n",
       "      <td>1000～1999</td>\n",
       "      <td>3.18</td>\n",
       "      <td>97</td>\n",
       "      <td>3000.0</td>\n",
       "      <td>3999.0</td>\n",
       "      <td>1000.0</td>\n",
       "      <td>1999.0</td>\n",
       "    </tr>\n",
       "    <tr>\n",
       "      <th>1</th>\n",
       "      <td>Sushiichikan</td>\n",
       "      <td>22-8 Sakuragaokacho Shibuya City Tokyo-to</td>\n",
       "      <td>050-5595-2988</td>\n",
       "      <td>https://tabelog.com/en/tokyo/A1303/A130301/132...</td>\n",
       "      <td>ランチタイム(月曜、火曜、木曜、金曜のみ)11:30~14:00ディナータイム17:30~2...</td>\n",
       "      <td>10000～14999</td>\n",
       "      <td>2000～2999</td>\n",
       "      <td>3.09</td>\n",
       "      <td>14</td>\n",
       "      <td>10000.0</td>\n",
       "      <td>14999.0</td>\n",
       "      <td>2000.0</td>\n",
       "      <td>2999.0</td>\n",
       "    </tr>\n",
       "    <tr>\n",
       "      <th>2</th>\n",
       "      <td>ITAMAE SUSHI</td>\n",
       "      <td>1-chome-19-1 Kabukicho Shinjuku City Tokyo-to</td>\n",
       "      <td>050-5589-2295</td>\n",
       "      <td>https://tabelog.com/en/tokyo/A1304/A130401/131...</td>\n",
       "      <td>【店内営業/テイクアウト】 全日08:00～翌05:00［ランチタイム］11:30～15:00</td>\n",
       "      <td>3000～3999</td>\n",
       "      <td>～999</td>\n",
       "      <td>3.25</td>\n",
       "      <td>111</td>\n",
       "      <td>3000.0</td>\n",
       "      <td>3999.0</td>\n",
       "      <td>NaN</td>\n",
       "      <td>999.0</td>\n",
       "    </tr>\n",
       "    <tr>\n",
       "      <th>3</th>\n",
       "      <td>sushishiorianyamashiro</td>\n",
       "      <td>5-chome-12-10 Shiba Minato City Tokyo-to</td>\n",
       "      <td>050-5456-8458</td>\n",
       "      <td>https://tabelog.com/en/tokyo/A1314/A131402/132...</td>\n",
       "      <td>ランチ　　12:00~14:00ディナー　17:00~23:00</td>\n",
       "      <td>10000～14999</td>\n",
       "      <td>1000～1999</td>\n",
       "      <td>3.41</td>\n",
       "      <td>48</td>\n",
       "      <td>10000.0</td>\n",
       "      <td>14999.0</td>\n",
       "      <td>1000.0</td>\n",
       "      <td>1999.0</td>\n",
       "    </tr>\n",
       "    <tr>\n",
       "      <th>4</th>\n",
       "      <td>Ginzasushikouhonten</td>\n",
       "      <td>2-chome-4-1 Marunouchi Chiyoda City Tokyo-to</td>\n",
       "      <td>050-5596-3820</td>\n",
       "      <td>https://tabelog.com/en/tokyo/A1302/A130201/130...</td>\n",
       "      <td>月～土 ランチ11:00～14:30（L.O.14:00）ディナー17:30～23:00（L...</td>\n",
       "      <td>10000～14999</td>\n",
       "      <td>5000～5999</td>\n",
       "      <td>3.53</td>\n",
       "      <td>48</td>\n",
       "      <td>10000.0</td>\n",
       "      <td>14999.0</td>\n",
       "      <td>5000.0</td>\n",
       "      <td>5999.0</td>\n",
       "    </tr>\n",
       "    <tr>\n",
       "      <th>...</th>\n",
       "      <td>...</td>\n",
       "      <td>...</td>\n",
       "      <td>...</td>\n",
       "      <td>...</td>\n",
       "      <td>...</td>\n",
       "      <td>...</td>\n",
       "      <td>...</td>\n",
       "      <td>...</td>\n",
       "      <td>...</td>\n",
       "      <td>...</td>\n",
       "      <td>...</td>\n",
       "      <td>...</td>\n",
       "      <td>...</td>\n",
       "    </tr>\n",
       "    <tr>\n",
       "      <th>1175</th>\n",
       "      <td>Kaitenzushitaisei</td>\n",
       "      <td>6-12 Asahicho Hachioji Tokyo-to</td>\n",
       "      <td>NaN</td>\n",
       "      <td>https://tabelog.com/en/tokyo/A1329/A132904/131...</td>\n",
       "      <td>11:00～20:45</td>\n",
       "      <td>1000～1999</td>\n",
       "      <td>～999</td>\n",
       "      <td>3.28</td>\n",
       "      <td>20</td>\n",
       "      <td>1000.0</td>\n",
       "      <td>1999.0</td>\n",
       "      <td>NaN</td>\n",
       "      <td>999.0</td>\n",
       "    </tr>\n",
       "    <tr>\n",
       "      <th>1176</th>\n",
       "      <td>Nigirinoippo</td>\n",
       "      <td>Senju Adachi City Tokyo</td>\n",
       "      <td>050-5868-5967</td>\n",
       "      <td>https://tabelog.com/en/tokyo/A1324/A132402/131...</td>\n",
       "      <td>17:00～23:00(フードL.O.22:00 ドリンクL.O.22:30)</td>\n",
       "      <td>6000～7999</td>\n",
       "      <td>-</td>\n",
       "      <td>3.53</td>\n",
       "      <td>60</td>\n",
       "      <td>6000.0</td>\n",
       "      <td>7999.0</td>\n",
       "      <td>NaN</td>\n",
       "      <td>NaN</td>\n",
       "    </tr>\n",
       "    <tr>\n",
       "      <th>1177</th>\n",
       "      <td>Akasakasushishiorianyamashiro</td>\n",
       "      <td>3-chome-15-13 Akasaka Minato City Tokyo</td>\n",
       "      <td>NaN</td>\n",
       "      <td>https://tabelog.com/en/tokyo/A1308/A130801/132...</td>\n",
       "      <td>通常営業時間16:00 ～ 24:00（23:00）</td>\n",
       "      <td>8000～9999</td>\n",
       "      <td>6000～7999</td>\n",
       "      <td>3.09</td>\n",
       "      <td>15</td>\n",
       "      <td>8000.0</td>\n",
       "      <td>9999.0</td>\n",
       "      <td>6000.0</td>\n",
       "      <td>7999.0</td>\n",
       "    </tr>\n",
       "    <tr>\n",
       "      <th>1178</th>\n",
       "      <td>sushinomidorisouhonten</td>\n",
       "      <td>1 Chome-20-7 Umegaoka Setagaya-ku Tokyo-to</td>\n",
       "      <td>NaN</td>\n",
       "      <td>https://tabelog.com/en/tokyo/A1318/A131812/130...</td>\n",
       "      <td>[月]11:00～21:00（L.O.20:45）[火～金]11:00～14:00 16:3...</td>\n",
       "      <td>3000～3999</td>\n",
       "      <td>2000～2999</td>\n",
       "      <td>3.53</td>\n",
       "      <td>345</td>\n",
       "      <td>3000.0</td>\n",
       "      <td>3999.0</td>\n",
       "      <td>2000.0</td>\n",
       "      <td>2999.0</td>\n",
       "    </tr>\n",
       "    <tr>\n",
       "      <th>1179</th>\n",
       "      <td>Koukizushi</td>\n",
       "      <td>2-chome-30-1 Akebonocho Tachikawa Tokyo-to</td>\n",
       "      <td>NaN</td>\n",
       "      <td>https://tabelog.com/en/tokyo/A1329/A132901/130...</td>\n",
       "      <td>[月～金]11:30～14:0017:00～22:00[土・日・祝]17:00～22:00</td>\n",
       "      <td>3000～3999</td>\n",
       "      <td>～999</td>\n",
       "      <td>3.46</td>\n",
       "      <td>38</td>\n",
       "      <td>3000.0</td>\n",
       "      <td>3999.0</td>\n",
       "      <td>NaN</td>\n",
       "      <td>999.0</td>\n",
       "    </tr>\n",
       "  </tbody>\n",
       "</table>\n",
       "<p>1180 rows × 13 columns</p>\n",
       "</div>"
      ]
     },
     "metadata": {},
     "execution_count": 57
    }
   ],
   "metadata": {}
  },
  {
   "cell_type": "code",
   "execution_count": 61,
   "source": [
    "#create new data_frame for friendly budget recommendation\n",
    "\n",
    "price_df = df_restaurant[['Name', 'Address', 'Rating', 'Reviews','Min_lunch_cost', 'Max_lunch_cost', 'Min_dinner_cost','Max_dinner_cost']]\n",
    "\n",
    "#delete if there is any missing value\n",
    "price_df.dropna()"
   ],
   "outputs": [
    {
     "output_type": "execute_result",
     "data": {
      "text/plain": [
       "                               Name  \\\n",
       "0                       Sushizammai   \n",
       "1                      Sushiichikan   \n",
       "3            sushishiorianyamashiro   \n",
       "4               Ginzasushikouhonten   \n",
       "5                            Yasaka   \n",
       "...                             ...   \n",
       "1170    Kanazawamaimonsushitamahime   \n",
       "1171                        Toshiya   \n",
       "1172               Tsukijitamazushi   \n",
       "1177  Akasakasushishiorianyamashiro   \n",
       "1178         sushinomidorisouhonten   \n",
       "\n",
       "                                               Address  Rating  Reviews  \\\n",
       "0               1-chome-1-15 Ōkubo Shinjuku City Tokyo    3.18       97   \n",
       "1            22-8 Sakuragaokacho Shibuya City Tokyo-to    3.09       14   \n",
       "3             5-chome-12-10 Shiba Minato City Tokyo-to    3.41       48   \n",
       "4         2-chome-4-1 Marunouchi Chiyoda City Tokyo-to    3.53       48   \n",
       "5             2-chome-8-13 Ebisu Shibuya City Tokyo-to    3.18       21   \n",
       "...                                                ...     ...      ...   \n",
       "1170      3 Chome-17-1 Tamagawa Setagaya City Tokyo-to    3.36       90   \n",
       "1171     3-chome-12-19 Miyasaka Setagaya City Tokyo-to    3.53       65   \n",
       "1172  1-chome-23-1 Kichijoji Honcho Musashino Tokyo-to    3.04       12   \n",
       "1177           3-chome-15-13 Akasaka Minato City Tokyo    3.09       15   \n",
       "1178        1 Chome-20-7 Umegaoka Setagaya-ku Tokyo-to    3.53      345   \n",
       "\n",
       "      Min_lunch_cost  Max_lunch_cost  Min_dinner_cost  Max_dinner_cost  \n",
       "0             1000.0          1999.0           3000.0           3999.0  \n",
       "1             2000.0          2999.0          10000.0          14999.0  \n",
       "3             1000.0          1999.0          10000.0          14999.0  \n",
       "4             5000.0          5999.0          10000.0          14999.0  \n",
       "5             2000.0          2999.0          10000.0          14999.0  \n",
       "...              ...             ...              ...              ...  \n",
       "1170          2000.0          2999.0           4000.0           4999.0  \n",
       "1171          1000.0          1999.0          10000.0          14999.0  \n",
       "1172          1000.0          1999.0           5000.0           5999.0  \n",
       "1177          6000.0          7999.0           8000.0           9999.0  \n",
       "1178          2000.0          2999.0           3000.0           3999.0  \n",
       "\n",
       "[670 rows x 8 columns]"
      ],
      "text/html": [
       "<div>\n",
       "<style scoped>\n",
       "    .dataframe tbody tr th:only-of-type {\n",
       "        vertical-align: middle;\n",
       "    }\n",
       "\n",
       "    .dataframe tbody tr th {\n",
       "        vertical-align: top;\n",
       "    }\n",
       "\n",
       "    .dataframe thead th {\n",
       "        text-align: right;\n",
       "    }\n",
       "</style>\n",
       "<table border=\"1\" class=\"dataframe\">\n",
       "  <thead>\n",
       "    <tr style=\"text-align: right;\">\n",
       "      <th></th>\n",
       "      <th>Name</th>\n",
       "      <th>Address</th>\n",
       "      <th>Rating</th>\n",
       "      <th>Reviews</th>\n",
       "      <th>Min_lunch_cost</th>\n",
       "      <th>Max_lunch_cost</th>\n",
       "      <th>Min_dinner_cost</th>\n",
       "      <th>Max_dinner_cost</th>\n",
       "    </tr>\n",
       "  </thead>\n",
       "  <tbody>\n",
       "    <tr>\n",
       "      <th>0</th>\n",
       "      <td>Sushizammai</td>\n",
       "      <td>1-chome-1-15 Ōkubo Shinjuku City Tokyo</td>\n",
       "      <td>3.18</td>\n",
       "      <td>97</td>\n",
       "      <td>1000.0</td>\n",
       "      <td>1999.0</td>\n",
       "      <td>3000.0</td>\n",
       "      <td>3999.0</td>\n",
       "    </tr>\n",
       "    <tr>\n",
       "      <th>1</th>\n",
       "      <td>Sushiichikan</td>\n",
       "      <td>22-8 Sakuragaokacho Shibuya City Tokyo-to</td>\n",
       "      <td>3.09</td>\n",
       "      <td>14</td>\n",
       "      <td>2000.0</td>\n",
       "      <td>2999.0</td>\n",
       "      <td>10000.0</td>\n",
       "      <td>14999.0</td>\n",
       "    </tr>\n",
       "    <tr>\n",
       "      <th>3</th>\n",
       "      <td>sushishiorianyamashiro</td>\n",
       "      <td>5-chome-12-10 Shiba Minato City Tokyo-to</td>\n",
       "      <td>3.41</td>\n",
       "      <td>48</td>\n",
       "      <td>1000.0</td>\n",
       "      <td>1999.0</td>\n",
       "      <td>10000.0</td>\n",
       "      <td>14999.0</td>\n",
       "    </tr>\n",
       "    <tr>\n",
       "      <th>4</th>\n",
       "      <td>Ginzasushikouhonten</td>\n",
       "      <td>2-chome-4-1 Marunouchi Chiyoda City Tokyo-to</td>\n",
       "      <td>3.53</td>\n",
       "      <td>48</td>\n",
       "      <td>5000.0</td>\n",
       "      <td>5999.0</td>\n",
       "      <td>10000.0</td>\n",
       "      <td>14999.0</td>\n",
       "    </tr>\n",
       "    <tr>\n",
       "      <th>5</th>\n",
       "      <td>Yasaka</td>\n",
       "      <td>2-chome-8-13 Ebisu Shibuya City Tokyo-to</td>\n",
       "      <td>3.18</td>\n",
       "      <td>21</td>\n",
       "      <td>2000.0</td>\n",
       "      <td>2999.0</td>\n",
       "      <td>10000.0</td>\n",
       "      <td>14999.0</td>\n",
       "    </tr>\n",
       "    <tr>\n",
       "      <th>...</th>\n",
       "      <td>...</td>\n",
       "      <td>...</td>\n",
       "      <td>...</td>\n",
       "      <td>...</td>\n",
       "      <td>...</td>\n",
       "      <td>...</td>\n",
       "      <td>...</td>\n",
       "      <td>...</td>\n",
       "    </tr>\n",
       "    <tr>\n",
       "      <th>1170</th>\n",
       "      <td>Kanazawamaimonsushitamahime</td>\n",
       "      <td>3 Chome-17-1 Tamagawa Setagaya City Tokyo-to</td>\n",
       "      <td>3.36</td>\n",
       "      <td>90</td>\n",
       "      <td>2000.0</td>\n",
       "      <td>2999.0</td>\n",
       "      <td>4000.0</td>\n",
       "      <td>4999.0</td>\n",
       "    </tr>\n",
       "    <tr>\n",
       "      <th>1171</th>\n",
       "      <td>Toshiya</td>\n",
       "      <td>3-chome-12-19 Miyasaka Setagaya City Tokyo-to</td>\n",
       "      <td>3.53</td>\n",
       "      <td>65</td>\n",
       "      <td>1000.0</td>\n",
       "      <td>1999.0</td>\n",
       "      <td>10000.0</td>\n",
       "      <td>14999.0</td>\n",
       "    </tr>\n",
       "    <tr>\n",
       "      <th>1172</th>\n",
       "      <td>Tsukijitamazushi</td>\n",
       "      <td>1-chome-23-1 Kichijoji Honcho Musashino Tokyo-to</td>\n",
       "      <td>3.04</td>\n",
       "      <td>12</td>\n",
       "      <td>1000.0</td>\n",
       "      <td>1999.0</td>\n",
       "      <td>5000.0</td>\n",
       "      <td>5999.0</td>\n",
       "    </tr>\n",
       "    <tr>\n",
       "      <th>1177</th>\n",
       "      <td>Akasakasushishiorianyamashiro</td>\n",
       "      <td>3-chome-15-13 Akasaka Minato City Tokyo</td>\n",
       "      <td>3.09</td>\n",
       "      <td>15</td>\n",
       "      <td>6000.0</td>\n",
       "      <td>7999.0</td>\n",
       "      <td>8000.0</td>\n",
       "      <td>9999.0</td>\n",
       "    </tr>\n",
       "    <tr>\n",
       "      <th>1178</th>\n",
       "      <td>sushinomidorisouhonten</td>\n",
       "      <td>1 Chome-20-7 Umegaoka Setagaya-ku Tokyo-to</td>\n",
       "      <td>3.53</td>\n",
       "      <td>345</td>\n",
       "      <td>2000.0</td>\n",
       "      <td>2999.0</td>\n",
       "      <td>3000.0</td>\n",
       "      <td>3999.0</td>\n",
       "    </tr>\n",
       "  </tbody>\n",
       "</table>\n",
       "<p>670 rows × 8 columns</p>\n",
       "</div>"
      ]
     },
     "metadata": {},
     "execution_count": 61
    }
   ],
   "metadata": {}
  },
  {
   "cell_type": "code",
   "execution_count": 65,
   "source": [
    "#caculate the average range cost in lunch and dinner\n",
    "mean_price  = price_df[['Min_lunch_cost', 'Max_lunch_cost', 'Min_dinner_cost','Max_dinner_cost']].mean()\n",
    "mean_price['Min_lunch_cost']"
   ],
   "outputs": [
    {
     "output_type": "execute_result",
     "data": {
      "text/plain": [
       "3261.0498"
      ]
     },
     "metadata": {},
     "execution_count": 65
    }
   ],
   "metadata": {}
  },
  {
   "cell_type": "code",
   "execution_count": null,
   "source": [],
   "outputs": [],
   "metadata": {}
  }
 ],
 "metadata": {
  "kernelspec": {
   "name": "python3",
   "display_name": "Python 3.8.5 64-bit ('LAProj': conda)"
  },
  "language_info": {
   "codemirror_mode": {
    "name": "ipython",
    "version": 3
   },
   "file_extension": ".py",
   "mimetype": "text/x-python",
   "name": "python",
   "nbconvert_exporter": "python",
   "pygments_lexer": "ipython3",
   "version": "3.8.5"
  },
  "interpreter": {
   "hash": "25d87f43abb312f8413e64473f3905a4e4e2dab0a7237b636763f789b0642cfe"
  }
 },
 "nbformat": 4,
 "nbformat_minor": 4
}